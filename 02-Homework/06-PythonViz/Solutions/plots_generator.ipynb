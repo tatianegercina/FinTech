version https://git-lfs.github.com/spec/v1
oid sha256:eaa0cbb4748f901cc694b85b34c8538ad7c01d6755ca6605ce5dec2bb38440a9
size 8952438
