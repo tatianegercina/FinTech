version https://git-lfs.github.com/spec/v1
oid sha256:f29f80ad0426c5d824e38e69553b39222bc766954af47c4505d67734dd800647
size 5084343
