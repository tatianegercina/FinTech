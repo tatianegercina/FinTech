version https://git-lfs.github.com/spec/v1
oid sha256:2f13a7907740dbd7b671a7d56c57a92db5b135c96eac85fdddb2abfd3bffbad5
size 2369412
