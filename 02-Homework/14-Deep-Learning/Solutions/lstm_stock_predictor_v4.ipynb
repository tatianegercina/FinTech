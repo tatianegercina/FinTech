version https://git-lfs.github.com/spec/v1
oid sha256:ed6fd2a050bb228dc926390d3db5d6bbdc6e958e6411de443cb971b66ad97f07
size 2381310
