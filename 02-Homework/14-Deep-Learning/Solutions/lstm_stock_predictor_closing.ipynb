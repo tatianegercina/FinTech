version https://git-lfs.github.com/spec/v1
oid sha256:221ad0352704ccc3968813598ecaa67a4037f9aabd2d884b4022a6fce3ad614a
size 2367600
