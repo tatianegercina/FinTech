version https://git-lfs.github.com/spec/v1
oid sha256:dd4c02cb533e5c726786638fa8f92632c7aa11c8ca45ca7b60f4a386839144ff
size 425304
