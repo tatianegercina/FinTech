version https://git-lfs.github.com/spec/v1
oid sha256:941bc82603563ed3fe064428fd7ddc3e62a05a482a7b5ab0514d7468c6ec848b
size 297015
