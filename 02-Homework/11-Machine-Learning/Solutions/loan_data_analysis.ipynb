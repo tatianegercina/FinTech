version https://git-lfs.github.com/spec/v1
oid sha256:9df9c26c3e735a23edea4a2fa1e03e0bed524b5562ae2b67f1f34a4329159a36
size 361003
