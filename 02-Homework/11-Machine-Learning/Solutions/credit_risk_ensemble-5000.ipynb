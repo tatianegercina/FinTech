version https://git-lfs.github.com/spec/v1
oid sha256:cf8d21607e2fd1ebd48cd3e8c4abed0371213c9a0ea5da1028482f67b4496175
size 20601
