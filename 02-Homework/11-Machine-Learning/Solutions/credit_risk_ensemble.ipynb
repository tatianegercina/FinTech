version https://git-lfs.github.com/spec/v1
oid sha256:6a771ccdd3bd9878a89b24edbccdf890ecd4b70c1b29ce45b18b20ab486274d2
size 39096
