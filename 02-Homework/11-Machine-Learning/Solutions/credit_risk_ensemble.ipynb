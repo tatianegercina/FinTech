version https://git-lfs.github.com/spec/v1
oid sha256:e86c3c125059dff94123e0e86355e15f82c0b36e0391c5b99fc9edd9c2010c7a
size 20439
