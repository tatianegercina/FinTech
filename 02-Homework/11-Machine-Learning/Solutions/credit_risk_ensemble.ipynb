version https://git-lfs.github.com/spec/v1
oid sha256:696e0e7fb184163106580ba69ce20a3f9640f53fbb9993b1a5c4a1292c5372ea
size 39074
