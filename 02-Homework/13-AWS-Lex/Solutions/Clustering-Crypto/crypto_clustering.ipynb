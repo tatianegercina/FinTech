version https://git-lfs.github.com/spec/v1
oid sha256:1a20f2a768d6c726ac426ae9b14f921ec36ee5791c1f786b32c876e9d247e8c4
size 6691827
