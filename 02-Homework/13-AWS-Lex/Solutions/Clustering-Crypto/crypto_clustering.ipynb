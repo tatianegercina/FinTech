version https://git-lfs.github.com/spec/v1
oid sha256:b5802b59cbfd32e893bae43c28f4e2d91623546b64a10066897ee1cabecc967a
size 6799731
