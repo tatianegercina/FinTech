version https://git-lfs.github.com/spec/v1
oid sha256:646ade5c9dafa2a769ef8c145d3a8679cdcf3a9b2e6133890c2e8bb3670be9fc
size 701319
