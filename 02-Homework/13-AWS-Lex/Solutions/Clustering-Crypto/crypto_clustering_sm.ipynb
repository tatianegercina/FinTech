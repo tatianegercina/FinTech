version https://git-lfs.github.com/spec/v1
oid sha256:00054394b407d41a96eda30bb66f4ab9ea787f706d18e7d29f56bd1eca6b6b47
size 529478
