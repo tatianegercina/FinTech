version https://git-lfs.github.com/spec/v1
oid sha256:800e95198e00b9c4fc1ae29b775ad26dab444c13c0f59dd3d6f8afda1c13f775
size 701156
