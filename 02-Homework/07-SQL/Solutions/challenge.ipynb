version https://git-lfs.github.com/spec/v1
oid sha256:b14a601d1e80e23a961f6f76fa986675d79745a3b6fa7905082529c34f3cd275
size 9057
