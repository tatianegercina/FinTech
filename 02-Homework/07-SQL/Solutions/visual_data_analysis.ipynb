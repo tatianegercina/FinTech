version https://git-lfs.github.com/spec/v1
oid sha256:c586a7e22372d6cf6ada0c6067c72fa9e477e8435446a0fd58ca6ab6343b9296
size 5708791
