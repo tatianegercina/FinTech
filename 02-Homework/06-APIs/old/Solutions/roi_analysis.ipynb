version https://git-lfs.github.com/spec/v1
oid sha256:e77640571237b3e23cb9b4611a9c9bb35b76b52ac551ef311480c8fdb04cb507
size 20866169
