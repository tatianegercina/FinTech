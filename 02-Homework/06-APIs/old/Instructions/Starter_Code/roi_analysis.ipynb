version https://git-lfs.github.com/spec/v1
oid sha256:0a539b3a1795e2e4a6fbcc39d115633c06e074b669c48697e8c204f841b3e8ea
size 20597764
