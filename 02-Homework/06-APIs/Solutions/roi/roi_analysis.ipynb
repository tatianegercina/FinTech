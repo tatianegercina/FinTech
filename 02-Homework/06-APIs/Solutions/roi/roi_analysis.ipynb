version https://git-lfs.github.com/spec/v1
oid sha256:a881471da7cc9dc54eed8adf33f545c9017ca487ca8f48d7495cedaaf85ba75c
size 20902137
