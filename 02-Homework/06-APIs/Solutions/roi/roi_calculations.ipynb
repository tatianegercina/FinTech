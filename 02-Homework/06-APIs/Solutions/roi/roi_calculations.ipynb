version https://git-lfs.github.com/spec/v1
oid sha256:38aea113fad15864427386fe9c83607b71fa0bddf04fdbb7f488b367d5e9dfdc
size 24742476
