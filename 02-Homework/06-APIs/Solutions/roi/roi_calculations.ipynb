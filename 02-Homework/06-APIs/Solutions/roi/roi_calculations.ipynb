version https://git-lfs.github.com/spec/v1
oid sha256:b2504ea77ab295f92e4945553646c937b9ff8dc24a7ffcc73d9a47042fd68b50
size 18666097
