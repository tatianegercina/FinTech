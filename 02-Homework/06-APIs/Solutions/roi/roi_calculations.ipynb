version https://git-lfs.github.com/spec/v1
oid sha256:5e3709a048f8f09fd549801bfd9d947798f4abb2ae237dd6349ced704e097ece
size 25361614
