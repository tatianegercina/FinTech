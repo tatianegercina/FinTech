version https://git-lfs.github.com/spec/v1
oid sha256:28db39c97d0332fb814a5d40a5e7f968c50bcb7eeb18ccf5677f04af2bb43665
size 122752
