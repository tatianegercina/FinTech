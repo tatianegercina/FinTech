version https://git-lfs.github.com/spec/v1
oid sha256:75fdad317defc3a04fa03ab6b0b96dc186aa0b7e7d2d9acc948dfb6d3166c10b
size 642804
