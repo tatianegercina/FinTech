version https://git-lfs.github.com/spec/v1
oid sha256:1d47fe71188b603e92083ebc07faabf1b25fe99948a1cca01ab97f1e507c2b25
size 288510
