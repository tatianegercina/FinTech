version https://git-lfs.github.com/spec/v1
oid sha256:ac8e53248fe3b9910c104886683e902eedd6f45b83c6e71caa40f777ec9b3abc
size 288493
