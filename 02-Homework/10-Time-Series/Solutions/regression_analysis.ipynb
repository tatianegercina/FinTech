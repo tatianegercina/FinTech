version https://git-lfs.github.com/spec/v1
oid sha256:122df69d786c993ff293c202871cef077090179e4bb9fa7b44b45d0c352b4f71
size 59375
