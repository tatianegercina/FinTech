version https://git-lfs.github.com/spec/v1
oid sha256:88c9641da78c989a6803d3267001c122f3233a117a95504c3309ea92ba4c8e9f
size 283314
