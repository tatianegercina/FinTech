version https://git-lfs.github.com/spec/v1
oid sha256:8ccd3269d5f6412d1b367a0d4eccd7abb1ece0fbb3c345a8c2f8408f0ab80b43
size 284645
