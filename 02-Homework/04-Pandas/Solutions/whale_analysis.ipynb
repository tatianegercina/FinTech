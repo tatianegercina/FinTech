version https://git-lfs.github.com/spec/v1
oid sha256:e4ac7a55380048dc981fd6c5ee55d63454bba0167113e50bcc18ea0469cb9aa4
size 1496189
