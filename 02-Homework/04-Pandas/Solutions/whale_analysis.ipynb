version https://git-lfs.github.com/spec/v1
oid sha256:f1300ae8c17d478e35c791658bc29893c4ec2e67b62dc857273045b4a93f05e6
size 1542429
