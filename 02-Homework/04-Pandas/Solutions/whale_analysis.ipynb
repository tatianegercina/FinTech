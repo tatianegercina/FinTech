version https://git-lfs.github.com/spec/v1
oid sha256:c81313a40c7a9bd8b28c05f2e56dd2dcb1e3ed32ee1d4e3ec3e3ab56cc46805e
size 1574054
