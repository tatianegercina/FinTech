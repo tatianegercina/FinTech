version https://git-lfs.github.com/spec/v1
oid sha256:0d2706bcae2ed16b834e9db743e788066e93a35df86b79ca38d42d76d2442299
size 1496152
