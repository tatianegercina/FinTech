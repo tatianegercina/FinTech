version https://git-lfs.github.com/spec/v1
oid sha256:16ae1d7e230af0d19bd001fd8a4fbba45c697ee5940783682c697384e12e207e
size 1518919
