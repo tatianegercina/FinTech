version https://git-lfs.github.com/spec/v1
oid sha256:992f0ce6a6e7a03eb4e9fa7ccf0950b0fd7f8521903260b909c99e3d23e0cedc
size 1031048
