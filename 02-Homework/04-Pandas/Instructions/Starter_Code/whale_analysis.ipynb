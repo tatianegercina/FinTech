version https://git-lfs.github.com/spec/v1
oid sha256:7ac088e3e1cae5486c2871d90097aca6aed34b5269b93ff64b4bd4fef723ce5e
size 1488806
