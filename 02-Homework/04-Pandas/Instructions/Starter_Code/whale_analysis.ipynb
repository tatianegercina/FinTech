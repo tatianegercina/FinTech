version https://git-lfs.github.com/spec/v1
oid sha256:ba4e778cf36f5fb59a35f9c0273347cd642e9b23213a181de413300d69ad69b8
size 805007
