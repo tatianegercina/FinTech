version https://git-lfs.github.com/spec/v1
oid sha256:e81e1fbe5c0345ef6ea2fe2a41ad6cb6950985caf5c1abda3d6befaa72ad36ca
size 11334
