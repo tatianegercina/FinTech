version https://git-lfs.github.com/spec/v1
oid sha256:c4d4ac3df9b8645f2901fdcd2f9e22ce56fb4b8731d13b8cfb729b3e128c9864
size 490771
