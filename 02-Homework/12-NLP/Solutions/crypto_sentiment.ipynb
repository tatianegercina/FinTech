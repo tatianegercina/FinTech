version https://git-lfs.github.com/spec/v1
oid sha256:21552117f7f241977c243e406d14e110f05460d3bc1137cad3a199f2f8988dd1
size 1334130
