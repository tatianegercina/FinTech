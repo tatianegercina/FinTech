version https://git-lfs.github.com/spec/v1
oid sha256:a3f122a7fc9a6cce96ef732de1dbbe57b11f0a9943fa464bb9254da32791ac66
size 2549629
