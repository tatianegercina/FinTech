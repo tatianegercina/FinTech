version https://git-lfs.github.com/spec/v1
oid sha256:28abd78c0746e22425a347d1b221d8e1c3533bb93b82d36fd45fc639bb146cdc
size 2443257
