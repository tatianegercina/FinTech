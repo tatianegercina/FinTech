version https://git-lfs.github.com/spec/v1
oid sha256:6baa6e05a8a67c818f1ccad80af2aa6d5d52caebc8c08e7685e84277ba4e7ff1
size 9893782
