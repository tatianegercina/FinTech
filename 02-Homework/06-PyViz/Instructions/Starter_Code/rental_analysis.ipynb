version https://git-lfs.github.com/spec/v1
oid sha256:94cd2cd6d45ca4bd7b6c424fe1f4db1bb116c98a070513bbb8a2690174ce1820
size 6224198
