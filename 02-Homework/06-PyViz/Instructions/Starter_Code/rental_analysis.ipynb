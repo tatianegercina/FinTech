version https://git-lfs.github.com/spec/v1
oid sha256:524480f8d56190264fd5acf5b3a5dd7ce3f431e9f27975e0612c1fb81d1446e0
size 7874345
