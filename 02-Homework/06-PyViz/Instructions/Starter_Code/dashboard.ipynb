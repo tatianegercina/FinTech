version https://git-lfs.github.com/spec/v1
oid sha256:a733d10dfe5ab075c49c0c467dbde983517225285a7fea8d5fec37a8260b00bc
size 6016893
