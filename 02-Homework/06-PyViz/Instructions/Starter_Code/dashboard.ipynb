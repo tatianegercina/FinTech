version https://git-lfs.github.com/spec/v1
oid sha256:f16c7cf316d56dffbaac6ed7063d89dec302f4d36fcf3df8337e3a65345f0eb5
size 5026800
