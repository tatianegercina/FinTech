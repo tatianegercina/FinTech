version https://git-lfs.github.com/spec/v1
oid sha256:bf4db5d22ab23a73d9f90a208e9b208723557ff7cccc95c2db5e8eeb43b21107
size 7100761
