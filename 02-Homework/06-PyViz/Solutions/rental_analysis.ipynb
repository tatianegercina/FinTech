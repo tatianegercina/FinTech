version https://git-lfs.github.com/spec/v1
oid sha256:6a10078ba6bcd00f64d644ad3ea6115372b4e109b4c82a5ab1c994f085f3a7f6
size 3859183
