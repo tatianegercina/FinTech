version https://git-lfs.github.com/spec/v1
oid sha256:9decd4ee76dfd24df606eedc4bd10a7167e35c2bdfbddc656c833eebbe6c74ea
size 9966670
