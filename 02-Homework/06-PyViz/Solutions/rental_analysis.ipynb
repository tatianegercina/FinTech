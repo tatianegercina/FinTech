version https://git-lfs.github.com/spec/v1
oid sha256:20e98d33c3a8d6a95c9053f6bf8f65694929d1ebfe8351dc435db8bb0e110ace
size 7796751
