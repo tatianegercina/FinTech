version https://git-lfs.github.com/spec/v1
oid sha256:8033a09c2b5398337cf9d856ebf6bd335bf4942b9e4d2f13bac9e757abd9af04
size 10344843
