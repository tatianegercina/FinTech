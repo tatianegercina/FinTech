version https://git-lfs.github.com/spec/v1
oid sha256:6ee8343020649c9c6c20f55d89b0b776a9c27bc68cc2d1bab14d8cf84d56ae04
size 7126864
