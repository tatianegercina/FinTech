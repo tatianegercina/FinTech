version https://git-lfs.github.com/spec/v1
oid sha256:8e4ba496bb273d3459bc559138d35ec5671f218ba7f24ff34ff2fd0aa32edb33
size 3166862
