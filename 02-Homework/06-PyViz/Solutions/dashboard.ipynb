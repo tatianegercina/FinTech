version https://git-lfs.github.com/spec/v1
oid sha256:ab27d27a0bc46b458fd5efc1294e3cae409a1c5e2cfd2a35b747bc62a5ab4985
size 5034154
