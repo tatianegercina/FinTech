version https://git-lfs.github.com/spec/v1
oid sha256:199a8c7505b6addd16302f770b685921cad733e238899126c82e10880e428157
size 3044405
