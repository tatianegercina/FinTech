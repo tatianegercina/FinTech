version https://git-lfs.github.com/spec/v1
oid sha256:fc2a3d2eb4c468e6c5f2d15f83cb04235a6c37a07fb074327e96bd44b74535ed
size 5201913
