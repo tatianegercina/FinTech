version https://git-lfs.github.com/spec/v1
oid sha256:7e5c1669fb845b4705d4679285158d7237215d6f6dbe4dd39a47641e9258ccfc
size 3703558
