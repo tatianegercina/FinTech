version https://git-lfs.github.com/spec/v1
oid sha256:e523cc249c07e162d4060b541b3f706c7013d9cb96561670f642fed6ff4d10c0
size 6108915
