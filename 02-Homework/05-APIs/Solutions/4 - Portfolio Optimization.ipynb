version https://git-lfs.github.com/spec/v1
oid sha256:02b5a723c38dcc601f9a1bb816fb71e60e910f521013986ffd3d79153e98dca5
size 81599
