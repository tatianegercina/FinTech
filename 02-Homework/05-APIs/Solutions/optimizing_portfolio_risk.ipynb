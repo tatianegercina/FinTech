version https://git-lfs.github.com/spec/v1
oid sha256:5f8c9eed116053622d9ab875800f53356f1abee0dc30fcd7a254b0092154e1d7
size 340117
