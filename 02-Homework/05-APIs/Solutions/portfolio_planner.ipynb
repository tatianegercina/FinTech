version https://git-lfs.github.com/spec/v1
oid sha256:1a39af794606fd1e7724c393e8e5951ca5c204002007443413392e553357d6e2
size 144480
