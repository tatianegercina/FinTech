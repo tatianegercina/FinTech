version https://git-lfs.github.com/spec/v1
oid sha256:1d0e4cc56b917e5d2f9f5b4304e64840be6cd379886ed45ed3bfad74227d6f0b
size 440823
