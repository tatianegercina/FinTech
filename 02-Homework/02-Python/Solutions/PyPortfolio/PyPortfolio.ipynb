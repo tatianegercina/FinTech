version https://git-lfs.github.com/spec/v1
oid sha256:92f1ed4bb6a6b8cb1313daff6596454a32a762919843a6700f3c73eefe9801e3
size 16263
