version https://git-lfs.github.com/spec/v1
oid sha256:14995d801a25eb4a26c86b2be9a9e6bf2bf8968a82b197fa1d7c93e78d569c1d
size 31992
