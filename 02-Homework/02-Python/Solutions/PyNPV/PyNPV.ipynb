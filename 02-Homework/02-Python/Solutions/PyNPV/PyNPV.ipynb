version https://git-lfs.github.com/spec/v1
oid sha256:4d7b856cb0a96e8895596b93ee2941d0dd1714116bcaf350b38a5adadbeb1e64
size 29690
