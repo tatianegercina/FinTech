version https://git-lfs.github.com/spec/v1
oid sha256:905e41b09504b23475fc2f3a5a9ef41c5adaeeaa0983ff71ced1ba767e7c9e38
size 2629
