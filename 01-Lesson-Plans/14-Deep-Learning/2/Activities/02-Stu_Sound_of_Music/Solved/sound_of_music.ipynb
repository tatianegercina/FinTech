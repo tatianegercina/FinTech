version https://git-lfs.github.com/spec/v1
oid sha256:c9a92fe3ec44c0c8410f67f4075fd26d7285ab6f0334f11b11c88a867bd1d7a2
size 209861
