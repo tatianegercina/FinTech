version https://git-lfs.github.com/spec/v1
oid sha256:5ccc5e2ed1cda5b704b73dea6aa4ddb50ab2dad8402b0e349197c9e44640dcde
size 238044
