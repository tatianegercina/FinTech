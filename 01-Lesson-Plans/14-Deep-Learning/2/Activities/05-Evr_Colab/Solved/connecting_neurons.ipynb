version https://git-lfs.github.com/spec/v1
oid sha256:593a268401d41dd4b424b3e335c2b60883adeeab6700c796cfdd4065d78de7eb
size 2580359
