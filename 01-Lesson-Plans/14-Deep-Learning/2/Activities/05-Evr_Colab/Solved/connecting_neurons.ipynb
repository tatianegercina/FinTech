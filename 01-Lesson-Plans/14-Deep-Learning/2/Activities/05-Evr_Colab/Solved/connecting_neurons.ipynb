version https://git-lfs.github.com/spec/v1
oid sha256:c79bb18fd582f9bd550f49f7d64cd0cd9fb678cd7a6a12c42eb53b109928e855
size 2580341
