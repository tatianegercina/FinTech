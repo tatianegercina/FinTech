version https://git-lfs.github.com/spec/v1
oid sha256:c429642264ad63593eee0f2b9475c80c6a348b2082f93f3c67a81a29505e8706
size 27620
