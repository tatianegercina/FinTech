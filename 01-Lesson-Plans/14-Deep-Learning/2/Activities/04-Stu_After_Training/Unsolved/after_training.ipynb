version https://git-lfs.github.com/spec/v1
oid sha256:cee9a00c04f462654dfe358830c6db6468fcb2992ed6775e70de38206bc6dfaa
size 10991
