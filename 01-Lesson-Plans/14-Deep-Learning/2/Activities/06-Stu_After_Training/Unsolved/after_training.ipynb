version https://git-lfs.github.com/spec/v1
oid sha256:3d02d2c9e0efa11e1ad0d5dbea30c48e92e82d0fc18ea74242eef45a74e2d432
size 8734
