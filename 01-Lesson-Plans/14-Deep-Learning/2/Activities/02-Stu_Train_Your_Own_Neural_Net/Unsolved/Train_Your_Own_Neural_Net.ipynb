version https://git-lfs.github.com/spec/v1
oid sha256:8a041dcd6be73fef1e2a7dfff2f7f9026f89eb12ad0f11f0b1061795e1ca45db
size 1712
