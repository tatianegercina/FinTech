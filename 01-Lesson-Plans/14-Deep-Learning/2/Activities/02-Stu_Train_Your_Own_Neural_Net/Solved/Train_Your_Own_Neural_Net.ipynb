version https://git-lfs.github.com/spec/v1
oid sha256:789924184f3d7ee71b02c8ff1643581b614b0ba13c4b7dbdbef9b2af36cd89e7
size 26893
