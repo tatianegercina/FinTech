version https://git-lfs.github.com/spec/v1
oid sha256:c2a28b903313267fe53d59a7b195d0978c265a11fcfaa2d79aaa6de1c64c7848
size 2580523
