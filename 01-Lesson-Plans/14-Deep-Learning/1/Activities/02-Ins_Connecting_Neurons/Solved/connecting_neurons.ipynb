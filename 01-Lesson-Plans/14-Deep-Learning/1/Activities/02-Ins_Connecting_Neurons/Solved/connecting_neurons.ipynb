version https://git-lfs.github.com/spec/v1
oid sha256:7518a3efe3e3a6e01488051ab759cc60d52dd70add00c0f0d205b302eab94934
size 66387
