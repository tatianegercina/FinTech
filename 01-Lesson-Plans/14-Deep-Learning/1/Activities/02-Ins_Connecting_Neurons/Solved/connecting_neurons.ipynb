version https://git-lfs.github.com/spec/v1
oid sha256:8ffeae69ea555a8f20495ac544812388403e81a8d1e71a64993539a86190e07e
size 66924
