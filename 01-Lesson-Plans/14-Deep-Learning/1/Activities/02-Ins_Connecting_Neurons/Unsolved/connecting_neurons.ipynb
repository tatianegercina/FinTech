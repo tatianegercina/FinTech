version https://git-lfs.github.com/spec/v1
oid sha256:708a49a3350602c7bd2faa7fb9c392f488dd51511fb2473469378730f66f89ce
size 5412
