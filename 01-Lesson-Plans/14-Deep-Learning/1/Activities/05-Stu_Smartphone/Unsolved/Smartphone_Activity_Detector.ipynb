version https://git-lfs.github.com/spec/v1
oid sha256:a71541bfdd2ac3e34896acfb4a5e8374fe93026bbd1d93336f2203df60eb4554
size 6642
