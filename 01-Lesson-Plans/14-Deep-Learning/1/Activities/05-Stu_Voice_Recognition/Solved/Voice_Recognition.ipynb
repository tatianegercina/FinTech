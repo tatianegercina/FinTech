version https://git-lfs.github.com/spec/v1
oid sha256:d19868fe78575714faadfd3b0d5868d811d26dbb85ee4d8568bbdaea51d0a740
size 33407
