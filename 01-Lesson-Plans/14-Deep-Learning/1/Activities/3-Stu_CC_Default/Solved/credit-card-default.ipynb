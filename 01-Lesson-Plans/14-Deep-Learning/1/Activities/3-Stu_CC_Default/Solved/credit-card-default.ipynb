version https://git-lfs.github.com/spec/v1
oid sha256:5bd17dfb1d8c46262a52a4de4cee28725fbaaae4a2ff8365fe46bdf3e2a96910
size 2528072
