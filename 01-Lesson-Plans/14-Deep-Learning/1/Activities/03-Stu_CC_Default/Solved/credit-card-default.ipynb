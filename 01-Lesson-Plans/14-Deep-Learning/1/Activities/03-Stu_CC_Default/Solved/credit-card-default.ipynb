version https://git-lfs.github.com/spec/v1
oid sha256:5776a67f6206c45e04f970bd0c931e8a7044caca10a1eee0f5f5c837a7ae54d5
size 77698
