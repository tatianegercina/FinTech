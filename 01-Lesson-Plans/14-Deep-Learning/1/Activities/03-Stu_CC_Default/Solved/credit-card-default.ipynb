version https://git-lfs.github.com/spec/v1
oid sha256:972550ef7ff38718ff43944d5a4ceb74ab966018323b8d3554d2aa0ab4f1579e
size 83098
