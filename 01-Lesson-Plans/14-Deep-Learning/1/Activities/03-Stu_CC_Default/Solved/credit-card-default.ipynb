version https://git-lfs.github.com/spec/v1
oid sha256:91a4bc8f2f58cffc0822b2156cc098dab74685372c6ac2d1ddda9c19c500d48a
size 2534658
