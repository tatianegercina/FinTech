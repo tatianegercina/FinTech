version https://git-lfs.github.com/spec/v1
oid sha256:2d1ed87c04a5d088b41461d89d62297c8eb7fa566ebba849011e3656d3754077
size 85223
