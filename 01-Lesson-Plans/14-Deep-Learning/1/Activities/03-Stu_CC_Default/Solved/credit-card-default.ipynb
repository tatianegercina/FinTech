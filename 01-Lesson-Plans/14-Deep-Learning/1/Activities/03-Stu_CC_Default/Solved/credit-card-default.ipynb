version https://git-lfs.github.com/spec/v1
oid sha256:d8f669cdcfb607cc463c73c6c04830da60b75f27716adcfdc277ced06e427394
size 85224
