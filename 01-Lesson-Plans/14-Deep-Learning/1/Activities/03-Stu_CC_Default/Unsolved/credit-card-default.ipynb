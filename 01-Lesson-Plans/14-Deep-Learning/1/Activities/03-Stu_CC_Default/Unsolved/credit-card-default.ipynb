version https://git-lfs.github.com/spec/v1
oid sha256:690518357f65dc17a93ee6e6a834f8a425bd57a72a98268efbfc91881511f9fe
size 7597
