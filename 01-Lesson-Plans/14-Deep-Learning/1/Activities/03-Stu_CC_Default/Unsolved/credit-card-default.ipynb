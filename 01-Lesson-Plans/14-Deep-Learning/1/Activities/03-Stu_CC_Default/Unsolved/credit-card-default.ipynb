version https://git-lfs.github.com/spec/v1
oid sha256:05d274e0732221856e04e0f2b2e22c19a78451de123b6c7a1b67cd62e73f1e0a
size 7334
