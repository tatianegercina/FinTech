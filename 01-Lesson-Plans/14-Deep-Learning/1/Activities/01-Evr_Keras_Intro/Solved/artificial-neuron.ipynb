version https://git-lfs.github.com/spec/v1
oid sha256:21e168f105f1111aba1fb615c116b46d3bb31358da5bb90da8853ce8f8fa14b1
size 170106
