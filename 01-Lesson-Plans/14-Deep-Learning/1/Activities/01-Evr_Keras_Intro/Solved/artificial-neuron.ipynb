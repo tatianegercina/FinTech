version https://git-lfs.github.com/spec/v1
oid sha256:3c0766af33f1c42b60a654e7392d5c5fce28d7ae7a71d437eea16a9fac0f110a
size 2657319
