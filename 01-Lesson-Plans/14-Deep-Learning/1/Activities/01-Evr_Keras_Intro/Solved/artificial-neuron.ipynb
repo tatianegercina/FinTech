version https://git-lfs.github.com/spec/v1
oid sha256:cfe17729a78023653ca963b881ac2252d6a19313f140a6e7057ee6690e141840
size 168583
