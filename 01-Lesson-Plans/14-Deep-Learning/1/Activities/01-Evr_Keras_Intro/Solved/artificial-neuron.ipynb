version https://git-lfs.github.com/spec/v1
oid sha256:07e0e9d433e09904788fdc8c9dfcd456b19acfde525bb2515ca8dd67b9915a55
size 2674611
