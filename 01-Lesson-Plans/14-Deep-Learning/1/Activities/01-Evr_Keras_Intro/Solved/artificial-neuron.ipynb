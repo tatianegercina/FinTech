version https://git-lfs.github.com/spec/v1
oid sha256:91cf693507c84e1cc0d559cc56e4382cf7dadbf5a5a6b50b60eeff673ae90e1c
size 168984
