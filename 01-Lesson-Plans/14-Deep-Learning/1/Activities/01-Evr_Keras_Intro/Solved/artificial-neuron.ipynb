version https://git-lfs.github.com/spec/v1
oid sha256:6ceb7a74d8c118edee81e4559c1f85594807ca6039dad6542a3ad2640033633f
size 2697883
