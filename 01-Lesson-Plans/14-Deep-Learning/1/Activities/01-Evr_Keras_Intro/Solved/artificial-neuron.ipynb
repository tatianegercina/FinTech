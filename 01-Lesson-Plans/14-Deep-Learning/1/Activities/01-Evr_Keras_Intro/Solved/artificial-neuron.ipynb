version https://git-lfs.github.com/spec/v1
oid sha256:45dfed2a5ee69336fe337839815276bb68acdcda51aa6c1ac28b6261689baecf
size 171662
