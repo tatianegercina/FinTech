version https://git-lfs.github.com/spec/v1
oid sha256:42c6344a2729b3cd05da99e4e415572ed568689917d875bbd62d386fc5b02990
size 2612426
