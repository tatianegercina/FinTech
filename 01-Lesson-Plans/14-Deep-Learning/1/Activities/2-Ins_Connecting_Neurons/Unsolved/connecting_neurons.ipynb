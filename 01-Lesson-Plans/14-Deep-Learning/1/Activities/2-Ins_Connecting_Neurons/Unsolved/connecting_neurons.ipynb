version https://git-lfs.github.com/spec/v1
oid sha256:d24f2a9e280fc68e40e74bf1ea8e7eb4591a91ac7fbbf0900c6b12f9727b5a2b
size 6939
