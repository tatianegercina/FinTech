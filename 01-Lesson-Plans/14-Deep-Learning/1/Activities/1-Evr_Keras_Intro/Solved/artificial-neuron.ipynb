version https://git-lfs.github.com/spec/v1
oid sha256:d76471f2eedd5fe84f02acf9299fb42f75742af4fd29c5fdffc262ef5321e292
size 2656651
