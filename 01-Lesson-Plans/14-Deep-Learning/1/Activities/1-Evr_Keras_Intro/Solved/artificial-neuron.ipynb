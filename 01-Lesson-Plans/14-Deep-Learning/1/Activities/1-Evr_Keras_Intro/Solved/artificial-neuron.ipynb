version https://git-lfs.github.com/spec/v1
oid sha256:64ded50a875f2c0bfc0a0aeafcb22d4f3523a5f19e5da535a0bb29c581451f4c
size 2655904
