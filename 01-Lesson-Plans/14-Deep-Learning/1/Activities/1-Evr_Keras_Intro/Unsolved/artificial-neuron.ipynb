version https://git-lfs.github.com/spec/v1
oid sha256:259fac613b115b8841cfd7973898cb09bb9f82f851d1a393f7dfc7bc00caac13
size 9528
