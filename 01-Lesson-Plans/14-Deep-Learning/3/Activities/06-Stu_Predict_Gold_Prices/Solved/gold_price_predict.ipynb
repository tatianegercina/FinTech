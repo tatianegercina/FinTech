version https://git-lfs.github.com/spec/v1
oid sha256:423ea07419f5ef497a88e115e8bed6fc7f6edd5fd493eb6a78430a15959fc9a4
size 142815
