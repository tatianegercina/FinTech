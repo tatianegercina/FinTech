version https://git-lfs.github.com/spec/v1
oid sha256:2ee0e5b464df4ae819c9bd0f9e5e750737d4bbc707f5b99b130c67e25f64ad04
size 142845
