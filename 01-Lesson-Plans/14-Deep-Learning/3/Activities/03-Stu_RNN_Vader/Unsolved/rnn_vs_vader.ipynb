version https://git-lfs.github.com/spec/v1
oid sha256:3174a0c2f356bee3e505c4ef253a0c57139f18721f6b0eb9ff53f62049b7f3f6
size 25717
