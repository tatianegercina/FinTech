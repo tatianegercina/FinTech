version https://git-lfs.github.com/spec/v1
oid sha256:f324a576dd1e0a1695b3d8840b64b7b5853399b25fdc80f20c5ffaa5894784f3
size 8750
