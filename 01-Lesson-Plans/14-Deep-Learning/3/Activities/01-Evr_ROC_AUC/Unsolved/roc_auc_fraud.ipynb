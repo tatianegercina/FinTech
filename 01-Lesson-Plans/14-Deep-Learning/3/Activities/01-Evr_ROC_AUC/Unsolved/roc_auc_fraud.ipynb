version https://git-lfs.github.com/spec/v1
oid sha256:42b476e391fad537c17ee36df9cf2dd9a4daa9964e1ec0a9fc5b436ce8015386
size 9006
