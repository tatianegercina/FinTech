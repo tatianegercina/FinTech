version https://git-lfs.github.com/spec/v1
oid sha256:d3f3b7fa81cfb42ad8c5f78b7f40bd6e47cdd8db49e473476ac7066bd0c615ab
size 104839
