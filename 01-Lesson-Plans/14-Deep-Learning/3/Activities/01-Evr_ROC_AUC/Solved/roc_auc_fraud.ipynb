version https://git-lfs.github.com/spec/v1
oid sha256:7e6c24ac020161896878aa73f6797c618f99b1735da2cd053159dcb79fd469eb
size 104836
