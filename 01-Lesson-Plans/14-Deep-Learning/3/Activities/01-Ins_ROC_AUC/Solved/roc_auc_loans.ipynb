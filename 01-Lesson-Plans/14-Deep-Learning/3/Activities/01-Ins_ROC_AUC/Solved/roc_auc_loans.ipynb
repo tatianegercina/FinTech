version https://git-lfs.github.com/spec/v1
oid sha256:1b307a85d1bc0ff9c5999689b933e0b7e188a7a7ed9b97e4ea7570abfb3ad675
size 108486
