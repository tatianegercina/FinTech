version https://git-lfs.github.com/spec/v1
oid sha256:e73ce7d246aa4fc78061e56206707497a7c40f9e2bfdaa18efcff36aa0b8ff86
size 2487448
