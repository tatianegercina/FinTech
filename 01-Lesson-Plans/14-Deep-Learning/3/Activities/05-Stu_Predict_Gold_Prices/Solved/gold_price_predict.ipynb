version https://git-lfs.github.com/spec/v1

oid sha256:c340832ed4a88ef7c729f6e88b1200d297ca5c9bd518907de9a5e47425d8698f
size 61828
