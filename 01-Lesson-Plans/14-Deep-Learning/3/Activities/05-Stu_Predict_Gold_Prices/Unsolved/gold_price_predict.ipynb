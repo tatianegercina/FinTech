version https://git-lfs.github.com/spec/v1
oid sha256:1143508f7b1cbf7394baf2e250ef07a97617b5163353bab37a76d9cb52471545
size 15500
