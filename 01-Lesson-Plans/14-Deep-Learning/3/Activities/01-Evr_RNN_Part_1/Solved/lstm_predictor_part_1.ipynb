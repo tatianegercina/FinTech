version https://git-lfs.github.com/spec/v1
oid sha256:b1640e8bee6904c6a76c7f070d2fc07d01bf8482327266b4c55d258a49f2b3f1
size 2480105
