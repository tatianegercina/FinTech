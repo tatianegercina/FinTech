version https://git-lfs.github.com/spec/v1
oid sha256:be0a8ed5bcd97dea39e0f429eb9e5342c11541e9996b3daf75aac387496d6cc1
size 25993
