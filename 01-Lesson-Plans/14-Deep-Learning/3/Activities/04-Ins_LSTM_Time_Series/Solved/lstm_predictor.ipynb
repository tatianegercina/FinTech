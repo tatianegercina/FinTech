version https://git-lfs.github.com/spec/v1
oid sha256:67a0b475f686c5ed12d56a39916eaf7400b97ca3f5b32dcb7d7ce00774d14882
size 58653
