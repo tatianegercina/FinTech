version https://git-lfs.github.com/spec/v1

oid sha256:ff0a7abad324680ed034a7db53ca6d41224dc346aacdd533d9daee0a90cb18d2
size 59001
