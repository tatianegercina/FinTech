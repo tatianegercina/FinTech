version https://git-lfs.github.com/spec/v1
oid sha256:8fc621cbac02ed1c12e47c58bb0be23e105bc5227bcd3a14877b865612cfb13b
size 71996
