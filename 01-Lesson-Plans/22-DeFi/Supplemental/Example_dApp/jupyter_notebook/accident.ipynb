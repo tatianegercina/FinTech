version https://git-lfs.github.com/spec/v1
oid sha256:e7fe2d40433cf4dc4d1d055d38b3ad17306ed0fcf2894fa5a44c4479b67baf69
size 2937
