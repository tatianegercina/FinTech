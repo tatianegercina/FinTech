version https://git-lfs.github.com/spec/v1
oid sha256:528a4d4816c391a0fe7e5fb2495355a91bde0e77dec7e62396ccf27f95bc52a6
size 5000
