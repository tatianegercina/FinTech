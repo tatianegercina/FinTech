version https://git-lfs.github.com/spec/v1
oid sha256:c22cb7d73190dfd012747e45d3dcfdae60c95c1b07454d78aca4b1f23c61a874
size 2619572
