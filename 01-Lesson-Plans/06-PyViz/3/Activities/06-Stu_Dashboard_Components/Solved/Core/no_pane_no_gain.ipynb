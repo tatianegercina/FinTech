version https://git-lfs.github.com/spec/v1
oid sha256:e454fa8a40d6e2fb9fef49b22f8542c09cbc239000aad2ce123f5a482fdb63bc
size 6016131
