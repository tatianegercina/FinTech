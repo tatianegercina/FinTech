version https://git-lfs.github.com/spec/v1
oid sha256:f38f222622cc18256fc3e4bdfd2f0bf502cd2764ba21cf5d938f075580634fed
size 7556484
