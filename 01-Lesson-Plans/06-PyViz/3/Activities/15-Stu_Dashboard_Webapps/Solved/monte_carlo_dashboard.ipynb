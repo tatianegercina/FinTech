version https://git-lfs.github.com/spec/v1
oid sha256:98317ce1f872c1dd27eb92f9fef482c71a5e51068f097d15315f201f2b548247
size 7556255
