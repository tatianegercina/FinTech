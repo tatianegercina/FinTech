version https://git-lfs.github.com/spec/v1
oid sha256:2bcf7c215a5c6024199d2d17795d9d6974e4ad3faa407ac1bb3a5e1a34d6deb4
size 5538687
