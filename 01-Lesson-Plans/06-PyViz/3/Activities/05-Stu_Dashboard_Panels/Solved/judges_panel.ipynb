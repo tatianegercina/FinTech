version https://git-lfs.github.com/spec/v1
oid sha256:4f93eac13b7a64d217d6a26cf6e570781ddaf3e19b97ee71110d115044a484ea
size 5965821
