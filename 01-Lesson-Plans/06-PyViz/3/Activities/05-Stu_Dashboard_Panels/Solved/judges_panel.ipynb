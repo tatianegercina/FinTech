version https://git-lfs.github.com/spec/v1
oid sha256:765e80ac2564dcfaca99b4a8b082841c0c4411396d8f6eb3b3ef2b9f850294ef
size 4982470
