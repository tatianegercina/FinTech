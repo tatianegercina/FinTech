version https://git-lfs.github.com/spec/v1
oid sha256:0e7f3e44b5951cfffaea03f3bbc8e4ac7fe3e3d7b3c153ca40bada9c898e9767
size 4510
