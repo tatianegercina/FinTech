version https://git-lfs.github.com/spec/v1
oid sha256:63932c5b4e3d0dfe9d743a4f145f6547b40d58c9e985f2ddca180d789fe9b006
size 2454891
