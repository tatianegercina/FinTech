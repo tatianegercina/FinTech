version https://git-lfs.github.com/spec/v1
oid sha256:06766e4095818e62909f2ab13dee7595f113799e63cbe89293ba7b43c4ddd422
size 4967753
