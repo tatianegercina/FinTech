version https://git-lfs.github.com/spec/v1
oid sha256:9ed68f863f60cf9ad79827d97b5e2eca2fa3daed4793c2ef5f40ec7b44852c3d
size 4981924
