version https://git-lfs.github.com/spec/v1
oid sha256:30e156d7ce8129ddc641dc9ddb3039052cc6f3117e199a5162d0caf049a79e41
size 5120104
