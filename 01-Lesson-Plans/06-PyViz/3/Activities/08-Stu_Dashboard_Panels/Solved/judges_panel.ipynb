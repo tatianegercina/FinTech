version https://git-lfs.github.com/spec/v1
oid sha256:e03d77bf5cf4df8789e0d0cfd1b23eaa017ef63f48a53d70a224bc8426c67953
size 5048507
