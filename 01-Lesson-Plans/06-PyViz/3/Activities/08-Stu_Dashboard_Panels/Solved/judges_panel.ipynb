version https://git-lfs.github.com/spec/v1
oid sha256:b6096cd36ddfab086373b038dba86c8af5c192073649f851bc029cabb53f3f6a
size 5049003
