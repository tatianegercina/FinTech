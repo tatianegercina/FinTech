version https://git-lfs.github.com/spec/v1
oid sha256:89e53b60692b4cf9953f2710fc32f4f0914f95be8992a47bf4eaa883abd79f16
size 4844300
