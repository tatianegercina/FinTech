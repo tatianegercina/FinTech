version https://git-lfs.github.com/spec/v1
oid sha256:a0c016453299c450a17ebdc96ff24040a0c4a48bfcf7d426b22dd2bd7a5a549e
size 3731674
