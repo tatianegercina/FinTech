version https://git-lfs.github.com/spec/v1
oid sha256:5d80a8e59d6cd6b16a2129da4a5093cb0848c9fa11c8f9fa20045104a71fd9a2
size 3483809
