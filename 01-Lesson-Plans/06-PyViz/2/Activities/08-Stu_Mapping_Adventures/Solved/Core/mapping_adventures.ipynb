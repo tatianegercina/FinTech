version https://git-lfs.github.com/spec/v1
oid sha256:04337328747953f91ad850da7fd8a85268ad7e5bffcf9fc846f4d41414794f88
size 5057301
