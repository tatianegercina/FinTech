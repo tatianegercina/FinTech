version https://git-lfs.github.com/spec/v1
oid sha256:99720f05f5406a18ed0f2489e0acb3b2c94d7fca9eb1319526478e0b96ff0e11
size 1329
