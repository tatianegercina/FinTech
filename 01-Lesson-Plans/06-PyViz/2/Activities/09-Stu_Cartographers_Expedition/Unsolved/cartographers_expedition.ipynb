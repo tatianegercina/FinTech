version https://git-lfs.github.com/spec/v1
oid sha256:20ab7617652746b3f7f9d2fc56e2dbf341493b96b244190f8a9d5a6ae40704a7
size 3224
