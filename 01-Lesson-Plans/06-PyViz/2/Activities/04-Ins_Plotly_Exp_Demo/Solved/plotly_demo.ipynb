version https://git-lfs.github.com/spec/v1
oid sha256:4a6ea3be9921baa717cf6afb999ed86ecf4554afdd8db5c6845d6578f9415002
size 248864
