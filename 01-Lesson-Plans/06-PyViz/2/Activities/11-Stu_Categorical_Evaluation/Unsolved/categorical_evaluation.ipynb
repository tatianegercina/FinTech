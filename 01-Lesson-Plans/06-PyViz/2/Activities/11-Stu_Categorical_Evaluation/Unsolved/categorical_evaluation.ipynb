version https://git-lfs.github.com/spec/v1
oid sha256:7d1fc82a27d01f0b2b12351195a951abcbe2332609e5e3df50da27fcb9815957
size 1810
