version https://git-lfs.github.com/spec/v1
oid sha256:92eb21bb43d1341fb95e28526a31b38e0084a24433d6e4c4e1941c2f99d01be8
size 2300
