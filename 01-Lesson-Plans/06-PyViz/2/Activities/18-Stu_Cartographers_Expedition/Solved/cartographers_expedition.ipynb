version https://git-lfs.github.com/spec/v1
oid sha256:70a95d187be125728b0002e49b040f92525c43b06fc4129ab6cda4f82612e2e2
size 1311
