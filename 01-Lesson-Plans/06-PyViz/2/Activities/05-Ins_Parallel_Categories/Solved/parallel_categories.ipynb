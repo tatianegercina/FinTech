version https://git-lfs.github.com/spec/v1
oid sha256:8bc8adcd5f5de266db48b9f4536a16de0eb12eee431702623db886dde1aa0d24
size 3710603
