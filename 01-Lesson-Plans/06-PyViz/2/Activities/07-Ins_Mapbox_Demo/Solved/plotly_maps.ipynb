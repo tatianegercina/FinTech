version https://git-lfs.github.com/spec/v1
oid sha256:bda71560786f41d995263c68142ca30e57830663cffc4ae99952f1beccbf6d0b
size 5032040
