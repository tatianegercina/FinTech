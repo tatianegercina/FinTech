version https://git-lfs.github.com/spec/v1
oid sha256:8da1dd5eb0ff1175fb9e5bbf977423a5766a89712546c630d6df447491b10993
size 4019214
