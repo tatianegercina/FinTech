version https://git-lfs.github.com/spec/v1
oid sha256:bdff6eefd30f26b8fbc5ba0ceb85adfebfa20dae9bd033291087cc3dcfaac0c9
size 3728985
