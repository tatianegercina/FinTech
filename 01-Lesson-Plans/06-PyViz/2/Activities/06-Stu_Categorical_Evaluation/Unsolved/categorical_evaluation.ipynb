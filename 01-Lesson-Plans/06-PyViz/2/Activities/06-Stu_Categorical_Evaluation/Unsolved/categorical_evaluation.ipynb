version https://git-lfs.github.com/spec/v1
oid sha256:48d3992b56c894e7b341c15782c1e7d34e24dcabb946aa71583ad43a7e9a3701
size 16656
