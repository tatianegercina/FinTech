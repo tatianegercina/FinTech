version https://git-lfs.github.com/spec/v1
oid sha256:93da7e88441d7e3341c11255dd8cdfce4ad83febbf76f03dd9e4b6061555282a
size 2490439
