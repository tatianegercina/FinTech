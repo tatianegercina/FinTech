version https://git-lfs.github.com/spec/v1
oid sha256:8a7248080b9d8463e2b98b143e98e941f1cdc08f089525724d20c77e02f03b4f
size 2385112
