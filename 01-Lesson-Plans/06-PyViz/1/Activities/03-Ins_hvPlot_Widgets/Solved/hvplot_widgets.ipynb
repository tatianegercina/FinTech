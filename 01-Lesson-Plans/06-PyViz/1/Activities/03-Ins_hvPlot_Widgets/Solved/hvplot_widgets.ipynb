version https://git-lfs.github.com/spec/v1
oid sha256:8ee6c9dc91a1fc13720c447fe16b166a9f9d300b5317f90c4cd386051e8392e3
size 2946930
