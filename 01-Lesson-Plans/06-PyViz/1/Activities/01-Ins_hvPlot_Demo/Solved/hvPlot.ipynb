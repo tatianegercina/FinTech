version https://git-lfs.github.com/spec/v1
oid sha256:263aada76bc929657fc7ec731d9fc982c4aba4be63dd209abe7b9456a98740fa
size 2987146
