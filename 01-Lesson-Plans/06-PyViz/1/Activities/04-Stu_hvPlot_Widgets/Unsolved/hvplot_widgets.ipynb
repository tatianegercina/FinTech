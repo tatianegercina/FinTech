version https://git-lfs.github.com/spec/v1
oid sha256:bca2bf744323ecc894a6d2cb1ae0e0ca6680f6873fdf76e9fe82c2007523c5ed
size 2651
