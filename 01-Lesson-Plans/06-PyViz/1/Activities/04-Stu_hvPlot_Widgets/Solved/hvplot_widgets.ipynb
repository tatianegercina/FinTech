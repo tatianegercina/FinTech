version https://git-lfs.github.com/spec/v1
oid sha256:00ec2fbd4916773a816ea5a9e3089cabaa2533b56f42ea2209dbf61dd611e970
size 2410291
