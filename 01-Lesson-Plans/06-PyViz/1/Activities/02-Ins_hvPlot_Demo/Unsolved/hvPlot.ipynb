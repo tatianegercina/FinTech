version https://git-lfs.github.com/spec/v1
oid sha256:7d6de2a22d79386f19eafe6b7820e3f091c4524aeacc34a8546f95b66ea7d8eb
size 1695
