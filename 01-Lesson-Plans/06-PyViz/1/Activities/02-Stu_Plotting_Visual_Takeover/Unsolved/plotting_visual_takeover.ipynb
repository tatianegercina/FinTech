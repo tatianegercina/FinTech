version https://git-lfs.github.com/spec/v1
oid sha256:bf676cf7c849e45fc7374da7a7fb65b6523181cbba22587b7277bc3a69ca9aae
size 2989019
