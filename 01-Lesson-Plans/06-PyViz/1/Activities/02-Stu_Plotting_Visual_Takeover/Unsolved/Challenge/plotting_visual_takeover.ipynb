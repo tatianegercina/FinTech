version https://git-lfs.github.com/spec/v1
oid sha256:b2afaaadb0a5ea00fe8a7fc3f350b58662e8583055a6fc4bcfcacb6a04e3281f
size 2395944
