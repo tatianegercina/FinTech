version https://git-lfs.github.com/spec/v1
oid sha256:a523bc39c566b53b8c956d806f6453e46ecd6a1a0ecb3a35015d943abea89107
size 2401041
