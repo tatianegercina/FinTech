version https://git-lfs.github.com/spec/v1
oid sha256:5038c4a873b98c941ad0e813719e9b46ee281ee9494f5bc0f6023fc3c55bc17e
size 2434991
