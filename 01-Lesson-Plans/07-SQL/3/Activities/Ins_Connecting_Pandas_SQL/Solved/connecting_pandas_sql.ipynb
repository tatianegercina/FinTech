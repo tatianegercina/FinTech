version https://git-lfs.github.com/spec/v1
oid sha256:52f26954e89ca51b57b61fdb38d2c7ef7edb63aecedf22d337df98c77f64ad8c
size 2399933
