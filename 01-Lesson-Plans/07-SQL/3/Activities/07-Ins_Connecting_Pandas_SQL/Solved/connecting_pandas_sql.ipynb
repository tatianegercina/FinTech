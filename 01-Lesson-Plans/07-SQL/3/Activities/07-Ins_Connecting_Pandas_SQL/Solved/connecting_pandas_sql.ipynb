version https://git-lfs.github.com/spec/v1
oid sha256:3d58384c20ecadb28b6b84e926843b4eab38858d419c3e9c7c67247efb13c2ec
size 2941419
