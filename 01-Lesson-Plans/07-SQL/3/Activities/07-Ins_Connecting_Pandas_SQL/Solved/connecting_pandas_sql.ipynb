version https://git-lfs.github.com/spec/v1
oid sha256:8fafba2e338b67f9e3aa4028969e12c8c6aeb59a4c9da98d25c959f315e15de7
size 2941377
