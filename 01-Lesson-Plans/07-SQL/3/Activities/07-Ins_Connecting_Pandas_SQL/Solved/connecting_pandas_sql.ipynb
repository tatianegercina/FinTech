version https://git-lfs.github.com/spec/v1
oid sha256:b7ad8b0d3d5f96dc96ed9247f21b4bee639a93d0fcd6d6567414d8ea72eeea7b
size 2399920
