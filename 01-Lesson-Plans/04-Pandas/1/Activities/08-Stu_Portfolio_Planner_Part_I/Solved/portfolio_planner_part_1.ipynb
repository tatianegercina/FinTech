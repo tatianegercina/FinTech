version https://git-lfs.github.com/spec/v1
oid sha256:bdd06c1d421ef37a43ad6b0cc7cc9c47bedb5bdd9041d9ee66a2c6aadbd2a93f
size 52017
