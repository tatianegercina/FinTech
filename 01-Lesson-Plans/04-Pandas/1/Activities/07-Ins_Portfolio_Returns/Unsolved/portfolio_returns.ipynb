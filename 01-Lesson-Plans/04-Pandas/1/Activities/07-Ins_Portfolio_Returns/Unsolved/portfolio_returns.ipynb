version https://git-lfs.github.com/spec/v1
oid sha256:572d89f844b013f3b0c04ee1fc5ce87b170302d746e711a31be11ca096f51510
size 4572
