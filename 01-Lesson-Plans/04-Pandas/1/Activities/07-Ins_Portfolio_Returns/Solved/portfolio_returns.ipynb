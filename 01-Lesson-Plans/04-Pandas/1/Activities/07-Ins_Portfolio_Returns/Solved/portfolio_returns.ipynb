version https://git-lfs.github.com/spec/v1
oid sha256:6f30acfd41b32f235f96b1fbfc2c55df8d0afa3c26563bea48fb354fd9f0a764
size 70138
