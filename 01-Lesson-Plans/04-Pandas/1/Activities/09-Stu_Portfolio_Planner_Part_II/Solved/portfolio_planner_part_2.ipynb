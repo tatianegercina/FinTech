version https://git-lfs.github.com/spec/v1
oid sha256:558695be0a54dc0b7afa90be8adc54ccc4bd2172bc9e5b541ea22ff1bf02ec6b
size 523069
