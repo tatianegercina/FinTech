version https://git-lfs.github.com/spec/v1
oid sha256:a3c740ac77d08c5148b2a238aaa4461a8abdf8d2b6e49f21960086fb714f815e
size 512875
