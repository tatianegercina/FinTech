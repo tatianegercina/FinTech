version https://git-lfs.github.com/spec/v1
oid sha256:6f42a4e95ef6d00822fb8463668c6ad8e7bcb4f41ff6e9db9ed77c878b88d1c1
size 55379
