version https://git-lfs.github.com/spec/v1
oid sha256:13b665c80c555902def46c7e01760688174d832851cd834bde13380bdbbc13fa
size 292711
