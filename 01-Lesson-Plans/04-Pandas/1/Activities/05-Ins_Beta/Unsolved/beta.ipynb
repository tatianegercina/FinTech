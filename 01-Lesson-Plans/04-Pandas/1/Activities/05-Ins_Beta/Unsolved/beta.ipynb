version https://git-lfs.github.com/spec/v1
oid sha256:c4255608641f224c075e029b9ffc58e65f957f6609d3f50cf40787f1b35fe2db
size 268520
