version https://git-lfs.github.com/spec/v1
oid sha256:f3a1da3e18a7600703119e0b9a79a1ae1e45c822e16863e052952913e752b84a
size 570302
