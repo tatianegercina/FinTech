version https://git-lfs.github.com/spec/v1
oid sha256:a11f11bd05753f00db01b94bdea4adf066b2ce75ec24ee10e7352a83ea448f74
size 525446
