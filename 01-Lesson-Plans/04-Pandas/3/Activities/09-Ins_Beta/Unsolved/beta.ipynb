version https://git-lfs.github.com/spec/v1
oid sha256:be4f68e7326b433b7506807fce8b5e75302cdc10a6c86f9961456560f3f00876
size 283566
