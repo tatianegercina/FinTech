version https://git-lfs.github.com/spec/v1
oid sha256:ebaf075a1a51cfab6ebf9000281773cd5f62d5775a57fd6caabae3f39b804bb3
size 268522
