version https://git-lfs.github.com/spec/v1
oid sha256:046f86ae80b80bc385f2ce34ba4ae2c72fdd77248be1ab8dbab562626e904b8e
size 285047
