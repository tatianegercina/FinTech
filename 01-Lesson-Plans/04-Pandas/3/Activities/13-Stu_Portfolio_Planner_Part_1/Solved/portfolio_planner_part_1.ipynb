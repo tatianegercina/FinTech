version https://git-lfs.github.com/spec/v1
oid sha256:aab8c0ad8d78e29fd88203c06d64edabdfbcb28b19fbaa60da3597b9b6227191
size 107899
