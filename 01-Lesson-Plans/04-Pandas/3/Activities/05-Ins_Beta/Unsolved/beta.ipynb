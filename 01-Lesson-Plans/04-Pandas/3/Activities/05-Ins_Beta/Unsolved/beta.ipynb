version https://git-lfs.github.com/spec/v1
oid sha256:3bbd5d6318980bd88b09189dc72d8b376e03d604f722008bc3c6c929a23575a0
size 268520
