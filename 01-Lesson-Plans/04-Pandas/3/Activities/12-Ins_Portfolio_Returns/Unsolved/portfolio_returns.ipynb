version https://git-lfs.github.com/spec/v1
oid sha256:86744aa06175b758d92e7c7ef0c50956df6f01ee2ce48e52e6332f064671c5e1
size 2324
