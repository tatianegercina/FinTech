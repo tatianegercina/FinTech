version https://git-lfs.github.com/spec/v1
oid sha256:60563a18e4d00cab1bdf09a3ade5ae7f66ccab0388359b109cea8f54cb058a9a
size 40490
