version https://git-lfs.github.com/spec/v1
oid sha256:31fef2af405241d5ca93d0bdff5665430e010b539b9852c054a90bbfbbe29ea4
size 42223
