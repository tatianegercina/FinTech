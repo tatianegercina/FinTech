version https://git-lfs.github.com/spec/v1
oid sha256:7bdf40873e52f70af5880f7aa5c18b00b0e3ded60b63ed396cfd576391ef5313
size 299892
