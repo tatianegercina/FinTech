version https://git-lfs.github.com/spec/v1
oid sha256:c2d4f3f770679af81fc15b506e21b98b8d2a20bfc42c2e810a4394b8eb3cdf8e
size 194302
