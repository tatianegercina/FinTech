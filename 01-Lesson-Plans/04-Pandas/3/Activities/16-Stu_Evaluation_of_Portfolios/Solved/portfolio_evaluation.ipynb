version https://git-lfs.github.com/spec/v1
oid sha256:9ba51ed458c48e1d03e79a23a4088639d1786d113e220833746d1c221eb7c7f6
size 577054
