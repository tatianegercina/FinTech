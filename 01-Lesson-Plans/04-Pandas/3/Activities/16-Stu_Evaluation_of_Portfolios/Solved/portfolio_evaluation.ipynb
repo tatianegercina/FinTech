version https://git-lfs.github.com/spec/v1
oid sha256:48f7c0aed559083d44985f953c9de1cb562317feeafc0c52c322c6c8ec72eff6
size 576940
