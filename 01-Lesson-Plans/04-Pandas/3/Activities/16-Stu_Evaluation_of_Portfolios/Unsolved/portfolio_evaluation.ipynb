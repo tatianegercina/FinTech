version https://git-lfs.github.com/spec/v1
oid sha256:3a9c0f1e3dc95b8ed561f9640b88fec402a9a016b714d2abb83ec7aed56554ef
size 508453
