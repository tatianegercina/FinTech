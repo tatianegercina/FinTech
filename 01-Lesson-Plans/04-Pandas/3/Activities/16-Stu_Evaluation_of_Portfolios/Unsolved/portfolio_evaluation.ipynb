version https://git-lfs.github.com/spec/v1
oid sha256:8df087f2312268ea73c917d2735b512fb73a922bc50f2854529c81d11478d876
size 572925
