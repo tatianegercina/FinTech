version https://git-lfs.github.com/spec/v1
oid sha256:3ac8848fc86168ed1a2897865fb54aaaa213f2bdec842e5cdf9e2a7bbc99c02d
size 34833
