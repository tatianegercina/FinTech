version https://git-lfs.github.com/spec/v1
oid sha256:3b0a61527908cb14cd1cffdfe5207f8e69aa290191c12880afdbb3702663eb02
size 1977
