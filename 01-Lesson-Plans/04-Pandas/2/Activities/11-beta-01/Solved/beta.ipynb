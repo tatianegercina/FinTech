version https://git-lfs.github.com/spec/v1
oid sha256:afbf2249ea6663ec58edaf39fafb40bc240d35c9b7348b3d5d4a252f3ba87f97
size 312003
