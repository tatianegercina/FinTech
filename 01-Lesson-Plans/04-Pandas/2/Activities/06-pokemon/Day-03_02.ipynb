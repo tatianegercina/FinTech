version https://git-lfs.github.com/spec/v1
oid sha256:ca9f2267bbf9a2adcd6c24935b9f04c4a193b9a17e78db89682eccb0ddad8bf2
size 34163
