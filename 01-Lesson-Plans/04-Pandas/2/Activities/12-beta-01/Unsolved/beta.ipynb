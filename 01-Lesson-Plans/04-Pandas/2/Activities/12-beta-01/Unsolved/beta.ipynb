version https://git-lfs.github.com/spec/v1
oid sha256:7ea210add9b9b65877c0ba4b9f611c402efd3e0df1000e2bbd9dbc2f2a3a1c43
size 310280
