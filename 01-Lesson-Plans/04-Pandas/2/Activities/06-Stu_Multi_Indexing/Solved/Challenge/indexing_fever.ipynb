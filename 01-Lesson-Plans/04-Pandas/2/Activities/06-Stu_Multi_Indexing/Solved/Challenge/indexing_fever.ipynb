version https://git-lfs.github.com/spec/v1
oid sha256:da29ef39ac984395e3cdc602cf726d3583f7c314134e2d2fdf249f93307c07ad
size 52515
