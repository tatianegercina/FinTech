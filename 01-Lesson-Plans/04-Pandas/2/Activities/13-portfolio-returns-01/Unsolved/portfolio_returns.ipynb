version https://git-lfs.github.com/spec/v1
oid sha256:7eea54524b5b1a0a3bd6a0cd40f28c8bf2391665036f253c839ec9a3a4fc9f5e
size 64074
