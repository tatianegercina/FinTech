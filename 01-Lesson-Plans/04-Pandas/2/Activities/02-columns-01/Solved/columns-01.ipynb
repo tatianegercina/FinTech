version https://git-lfs.github.com/spec/v1
oid sha256:6228d3964f73b969aac5ab206dfa58d497e79288c948b8eeb299abcf19fd3ec3
size 33008
