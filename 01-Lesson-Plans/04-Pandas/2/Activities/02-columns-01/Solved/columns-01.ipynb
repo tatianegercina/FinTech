version https://git-lfs.github.com/spec/v1
oid sha256:ea42b6fa23f3dc699316211a886accd8ce6600ab3338a3aada29e6c0a53a3c4d
size 33012
