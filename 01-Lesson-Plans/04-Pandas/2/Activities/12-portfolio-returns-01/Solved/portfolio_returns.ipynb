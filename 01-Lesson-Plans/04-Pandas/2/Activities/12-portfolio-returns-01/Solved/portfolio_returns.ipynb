version https://git-lfs.github.com/spec/v1
oid sha256:5c2c790cee9c47739e8deb97aa05a9d8b07be86b7ab48d0a615e49c0701add34
size 65139
