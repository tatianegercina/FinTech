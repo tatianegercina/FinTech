version https://git-lfs.github.com/spec/v1
oid sha256:e178e975ce5190512fbbd5ca65b786037119597bc2fb82936b317e79aeecaa5b
size 2004
