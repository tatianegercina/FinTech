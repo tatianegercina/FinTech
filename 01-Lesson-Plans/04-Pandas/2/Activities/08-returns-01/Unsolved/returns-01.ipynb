version https://git-lfs.github.com/spec/v1
oid sha256:87ef81a10f0d44c80a31c4139cddb7da305ff97241765a4acd92e2e66eed5b64
size 111610
