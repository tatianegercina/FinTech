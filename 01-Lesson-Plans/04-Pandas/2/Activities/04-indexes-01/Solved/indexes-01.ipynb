version https://git-lfs.github.com/spec/v1
oid sha256:84e9dd9927ce71b80e06071c7678cd26a49a0fe4f37cd9191d2c086d972310f2
size 104023
