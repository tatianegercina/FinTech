version https://git-lfs.github.com/spec/v1
oid sha256:42b6cc887797aa5d4d9ff619d05c3c5cbedc3e056948937721fcacacd04e1510
size 24434
