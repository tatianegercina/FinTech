version https://git-lfs.github.com/spec/v1
oid sha256:382dd6550888e7200ad4e4053694d4850d679d5edcd28ddac292a1a4649197ce
size 4176
