version https://git-lfs.github.com/spec/v1
oid sha256:c77d63abc7eec705518c59c1592268cb7b61a663af6e1b69a30b9a477da5ff21
size 397453
