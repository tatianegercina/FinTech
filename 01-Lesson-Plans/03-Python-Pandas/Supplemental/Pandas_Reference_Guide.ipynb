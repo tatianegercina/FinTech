version https://git-lfs.github.com/spec/v1
oid sha256:df64928f2a67be04cfdfa3921ae3bfcca043364cfeca28c7403be622eb0ac433
size 428512
