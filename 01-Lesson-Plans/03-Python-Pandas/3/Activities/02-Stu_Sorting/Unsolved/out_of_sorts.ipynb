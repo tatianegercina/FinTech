version https://git-lfs.github.com/spec/v1
oid sha256:04b26758622642fa2844a9f2a723c731b69beb7fba780afd05a85d31deb8c9b7
size 3102
