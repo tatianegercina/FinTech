version https://git-lfs.github.com/spec/v1
oid sha256:28dfc54e103a928ded9ae618b355586ab8710d7b25e4404bcd6503c056b8a738
size 27600
