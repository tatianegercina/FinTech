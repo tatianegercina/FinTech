version https://git-lfs.github.com/spec/v1
oid sha256:05bc559b968141a2ed52c1f44593dce635436d285a4201316c807bd2a63342d9
size 18420
