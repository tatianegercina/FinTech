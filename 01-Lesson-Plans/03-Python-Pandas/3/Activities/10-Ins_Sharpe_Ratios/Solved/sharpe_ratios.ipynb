version https://git-lfs.github.com/spec/v1
oid sha256:105c30866435c5fb8592469587947e4cdf6fb86a2dfbc3ce6c67673b8381fe61
size 25408
