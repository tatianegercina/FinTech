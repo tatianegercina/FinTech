version https://git-lfs.github.com/spec/v1
oid sha256:52f1d2ba692c0a801cdc16d1c86f39fa310e72e33dc60ab0beff4449ed0f7467
size 2691
