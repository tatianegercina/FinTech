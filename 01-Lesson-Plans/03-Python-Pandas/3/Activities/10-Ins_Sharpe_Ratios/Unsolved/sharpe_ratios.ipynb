version https://git-lfs.github.com/spec/v1
oid sha256:f85d78978e02947736a24e9b0bd5bb2f244cb089303d8b1d3bef549ec6be92dd
size 2139
