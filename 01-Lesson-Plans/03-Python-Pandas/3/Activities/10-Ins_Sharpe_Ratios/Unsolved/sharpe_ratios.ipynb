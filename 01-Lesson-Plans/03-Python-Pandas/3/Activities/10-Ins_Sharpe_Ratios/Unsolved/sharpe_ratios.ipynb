version https://git-lfs.github.com/spec/v1
oid sha256:f2e318415015306539758c61af0cebe2ed092ead467f7fff5830998873bff724
size 2691
