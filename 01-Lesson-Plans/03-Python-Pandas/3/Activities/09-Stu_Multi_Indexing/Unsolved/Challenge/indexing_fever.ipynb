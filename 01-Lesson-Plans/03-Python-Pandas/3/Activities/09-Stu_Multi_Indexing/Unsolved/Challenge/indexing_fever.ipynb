version https://git-lfs.github.com/spec/v1
oid sha256:27f1d41f0253a25962d76adf4f80237a3ab45b4c12c7cd415c722767fc15274a
size 2687
