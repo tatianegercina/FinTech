version https://git-lfs.github.com/spec/v1
oid sha256:8b7786586fbed66c55827119feea42a35d5ea9429b4e83b151b70ca5dd71ec30
size 3172
