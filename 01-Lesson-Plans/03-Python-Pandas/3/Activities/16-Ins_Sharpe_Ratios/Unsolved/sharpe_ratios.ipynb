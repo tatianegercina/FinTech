version https://git-lfs.github.com/spec/v1
oid sha256:c31b97ede27a85be9af5242705fa6b63f3e730da2b9096e73b71ffc133a49f0a
size 1988
