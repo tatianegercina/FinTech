version https://git-lfs.github.com/spec/v1
oid sha256:37c84212afe69b0f23ddc356d19d60d3d2cd37151fc06374a042a8d07579aebd
size 2016
