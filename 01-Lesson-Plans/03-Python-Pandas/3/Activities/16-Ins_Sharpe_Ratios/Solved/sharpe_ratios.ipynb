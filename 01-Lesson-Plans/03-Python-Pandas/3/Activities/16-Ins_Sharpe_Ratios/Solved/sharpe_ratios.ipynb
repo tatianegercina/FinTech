version https://git-lfs.github.com/spec/v1
oid sha256:8b5db93f5b8933404af489a1bda444ab191ddc1b39a7aa8e1e939121b99df301
size 21837
