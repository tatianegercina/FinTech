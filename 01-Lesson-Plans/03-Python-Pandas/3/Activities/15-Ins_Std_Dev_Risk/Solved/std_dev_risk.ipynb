version https://git-lfs.github.com/spec/v1
oid sha256:d47dba6f27fc4f0a8c1d3ad9ef61eaed001237d7643e11118552ba5013a82add
size 28125
