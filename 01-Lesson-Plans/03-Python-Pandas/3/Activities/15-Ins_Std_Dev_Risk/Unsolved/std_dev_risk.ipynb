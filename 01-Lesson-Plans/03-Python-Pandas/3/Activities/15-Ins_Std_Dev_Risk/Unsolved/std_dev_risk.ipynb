version https://git-lfs.github.com/spec/v1
oid sha256:41cdf3832421da16a5106d1a354f69f18ade25725d1f5483bd105579ecb29bc5
size 16319
