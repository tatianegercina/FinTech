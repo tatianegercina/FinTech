version https://git-lfs.github.com/spec/v1
oid sha256:ffb8e384ce690b00028cce2dcbd0bc3dfb6a20d4ad28fb958f12a87e061f2bf8
size 10341
