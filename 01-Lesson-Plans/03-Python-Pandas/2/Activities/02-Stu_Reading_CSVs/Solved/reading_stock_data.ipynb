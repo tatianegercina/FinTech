version https://git-lfs.github.com/spec/v1
oid sha256:9a6c30736dd615c335ba36aa8532318fd3f85754d77f14fea9c4865056307508
size 16886
