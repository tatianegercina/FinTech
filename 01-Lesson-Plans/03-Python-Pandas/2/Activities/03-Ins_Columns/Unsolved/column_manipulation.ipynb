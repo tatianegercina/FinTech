version https://git-lfs.github.com/spec/v1
oid sha256:2b0cc2103e335f579cd4ad5443d1934e89d5f2ff8d549e524edff8ff34bbeb4d
size 4829
