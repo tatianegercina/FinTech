version https://git-lfs.github.com/spec/v1
oid sha256:19d734aebdef358e58324a22191a9add3ca92c144d06603824f9d5d520572d63
size 177807
