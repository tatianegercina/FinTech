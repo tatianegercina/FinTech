version https://git-lfs.github.com/spec/v1
oid sha256:1ecdb6dc4b9cc2bae0975037d8085159bd2d1f4a40216bb3e1fc718eb4325202
size 79647
