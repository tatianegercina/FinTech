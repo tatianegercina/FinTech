version https://git-lfs.github.com/spec/v1
oid sha256:a478c9d4d7034164c1581ebb85d5de2cba9f1cc97c01cac94884d262f9519a60
size 56841
