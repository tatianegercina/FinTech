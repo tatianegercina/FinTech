version https://git-lfs.github.com/spec/v1
oid sha256:85ba494264c0d0a142d00d1978bdef4a7959416bfcda6dab19007d94b5cf5856
size 69966
