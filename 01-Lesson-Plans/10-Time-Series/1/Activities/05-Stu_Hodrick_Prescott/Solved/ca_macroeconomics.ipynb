version https://git-lfs.github.com/spec/v1
oid sha256:fac84a73bcc02d54e287b7807d61dccf99610be87661baddabf2e42d52300ee8
size 203578
