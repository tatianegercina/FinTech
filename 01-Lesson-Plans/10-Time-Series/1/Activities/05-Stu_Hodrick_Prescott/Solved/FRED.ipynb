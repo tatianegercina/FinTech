version https://git-lfs.github.com/spec/v1
oid sha256:c69d18d1e1b10ed2391256514b522aeefd29117bd05bfe6d0fbd4bc712796d80
size 204021
