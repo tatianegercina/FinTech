version https://git-lfs.github.com/spec/v1
oid sha256:06f042a3b3e153542f7f519dc2db946fc6affb9a3b1ab7a3aa68716c387e5ad4
size 95895
