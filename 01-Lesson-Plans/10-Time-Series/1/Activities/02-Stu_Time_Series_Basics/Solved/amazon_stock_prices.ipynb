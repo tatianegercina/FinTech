version https://git-lfs.github.com/spec/v1
oid sha256:70021c0a4090cd87507ac998a723b5aa209c37c1599cdcc55dfa619a02e7cece
size 67469
