version https://git-lfs.github.com/spec/v1
oid sha256:0a69d778ed9fe4430734bb7d3288aead6a1abb90903e7d62ad7a8ca688b8200e
size 94100
