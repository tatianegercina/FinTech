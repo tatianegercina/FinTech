version https://git-lfs.github.com/spec/v1
oid sha256:be5d255b76a03a42b597195979e5a18db1521090774eaf4ecfad4421f998bb01
size 105967
