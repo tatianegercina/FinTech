version https://git-lfs.github.com/spec/v1
oid sha256:e0fc9c6af1b16614ec41d3a9885dbd57826f9010740acc4dda90d2578f3ef2ec
size 1031
