version https://git-lfs.github.com/spec/v1
oid sha256:6550a26e6be2e5938912d709f1a51c0f14fca971fbc533e435cd2622aa4b23a2
size 58018
