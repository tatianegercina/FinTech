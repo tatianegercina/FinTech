version https://git-lfs.github.com/spec/v1
oid sha256:aa985bb5ba592760514b7d867ae1abc4627f56c3bc17f31ee21a90e9d5ca1b58
size 20588
