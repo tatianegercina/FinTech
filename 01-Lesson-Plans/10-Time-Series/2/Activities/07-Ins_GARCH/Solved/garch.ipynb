version https://git-lfs.github.com/spec/v1
oid sha256:76a400bb81d3950b11a381d81ab993ce3509aae154562a8e2cf15c1678b89e13
size 170692
