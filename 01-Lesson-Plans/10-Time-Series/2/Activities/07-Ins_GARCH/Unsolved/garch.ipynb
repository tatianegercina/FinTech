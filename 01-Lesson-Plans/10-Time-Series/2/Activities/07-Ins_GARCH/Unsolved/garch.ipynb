version https://git-lfs.github.com/spec/v1
oid sha256:b8c014ebb61b8f7968cab96a9aef89dc8f3f655da8708aadc8b29245a4db8648
size 169947
