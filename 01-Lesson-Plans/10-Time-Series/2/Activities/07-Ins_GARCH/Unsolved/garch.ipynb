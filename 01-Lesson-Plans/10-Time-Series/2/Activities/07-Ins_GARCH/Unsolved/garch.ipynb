version https://git-lfs.github.com/spec/v1
oid sha256:8023bb6509de9e1b90450a7690f76d9d65de3a1af2f30796cbb5577eb38ac6eb
size 169979
