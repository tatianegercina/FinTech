version https://git-lfs.github.com/spec/v1
oid sha256:a1bc9b8f5b5f80f16e933c833665a0c05d6578a06b94cc98ff83bca90cfeece5
size 87428
