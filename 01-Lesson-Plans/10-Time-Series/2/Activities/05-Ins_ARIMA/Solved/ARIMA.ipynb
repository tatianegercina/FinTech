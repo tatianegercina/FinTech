version https://git-lfs.github.com/spec/v1
oid sha256:411eff4ec6d6bfb96345b407dce56db4d89f58b6ba7426a2de593196b340e5fc
size 110224
