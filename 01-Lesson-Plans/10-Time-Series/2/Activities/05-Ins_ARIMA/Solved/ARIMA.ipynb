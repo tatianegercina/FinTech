version https://git-lfs.github.com/spec/v1
oid sha256:c0b187ac0469648a4dafa230ddd01f3309fb440b86f1cbdf74fd37f295d7ea12
size 83283
