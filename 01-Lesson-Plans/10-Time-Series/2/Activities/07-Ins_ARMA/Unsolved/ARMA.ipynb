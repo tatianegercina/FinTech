version https://git-lfs.github.com/spec/v1
oid sha256:9fc8bb1d43cddbfc566fdb5b479ce2dc7362dae7621263f7a955ab8a135f9271
size 1205
