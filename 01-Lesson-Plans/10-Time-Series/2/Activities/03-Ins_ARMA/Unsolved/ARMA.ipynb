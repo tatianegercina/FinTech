version https://git-lfs.github.com/spec/v1
oid sha256:5b527805a8d45c6ab19cc82622e51e475c8c13ac008f4b5ddc7046a6ffa816fb
size 81839
