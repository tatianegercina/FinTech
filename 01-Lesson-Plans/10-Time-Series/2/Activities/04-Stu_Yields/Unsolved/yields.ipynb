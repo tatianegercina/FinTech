version https://git-lfs.github.com/spec/v1
oid sha256:fb16b7e9099949ba1580b191164d29bd6cca5f9f75e0083e8c283166ac407ad8
size 73800
