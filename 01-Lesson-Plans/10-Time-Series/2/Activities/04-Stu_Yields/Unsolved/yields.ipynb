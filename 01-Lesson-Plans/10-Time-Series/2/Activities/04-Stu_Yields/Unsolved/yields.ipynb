version https://git-lfs.github.com/spec/v1
oid sha256:0b22faca19cd050ab592f29f83b0f70a66ade538b66acc936deac9b89bff372c
size 94653
