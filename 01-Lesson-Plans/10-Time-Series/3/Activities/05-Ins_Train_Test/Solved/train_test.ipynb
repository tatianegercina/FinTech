version https://git-lfs.github.com/spec/v1
oid sha256:a0302bfd5b408cc86bcc83f4d6c15fa7f369728c2f32d1ba3cf7c5514f49b4dd
size 43530
