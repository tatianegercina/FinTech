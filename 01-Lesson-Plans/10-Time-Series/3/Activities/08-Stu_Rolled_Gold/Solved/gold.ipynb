version https://git-lfs.github.com/spec/v1
oid sha256:b6fd5df61f5c4ad9f149998b191556f249d4cfbdc2640ca424c46751767891fc
size 121093
