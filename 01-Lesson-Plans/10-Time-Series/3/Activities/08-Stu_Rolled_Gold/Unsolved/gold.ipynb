version https://git-lfs.github.com/spec/v1
oid sha256:14c77757b22903f510cd7e52e3d2e6c5d6b139cb9b25fe867a1a88383efe0f3c
size 117806
