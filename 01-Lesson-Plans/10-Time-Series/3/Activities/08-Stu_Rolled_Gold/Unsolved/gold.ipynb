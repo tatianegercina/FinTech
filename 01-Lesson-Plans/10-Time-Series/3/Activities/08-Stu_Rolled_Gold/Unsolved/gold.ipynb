version https://git-lfs.github.com/spec/v1
oid sha256:1ffcb2fdd85f32ff0a91634662c48158de816530b1c8413ddeb2e4027fbb60ba
size 116922
