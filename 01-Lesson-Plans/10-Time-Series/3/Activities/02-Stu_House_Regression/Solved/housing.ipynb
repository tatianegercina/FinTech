version https://git-lfs.github.com/spec/v1
oid sha256:a6e020e3d02cd908e5d78fdbb194cffb9e4f9d204216f61b37a3ac5e5e727aad
size 48223
