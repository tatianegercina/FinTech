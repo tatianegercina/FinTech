version https://git-lfs.github.com/spec/v1
oid sha256:c3f4ef0166d1488798c01aa72f7dfcfc922d0cb4507c8880a1679ffc755da283
size 79296
