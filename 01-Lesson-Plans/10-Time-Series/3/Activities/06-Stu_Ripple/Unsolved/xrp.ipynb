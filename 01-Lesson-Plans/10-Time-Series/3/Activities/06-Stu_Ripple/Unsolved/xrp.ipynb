version https://git-lfs.github.com/spec/v1
oid sha256:7f894ae66a1e9b23494c89417d4d02162a898987d6179b4ad2464d92e0f57ac2
size 110580
