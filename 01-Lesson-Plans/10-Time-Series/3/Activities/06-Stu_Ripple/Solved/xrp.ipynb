version https://git-lfs.github.com/spec/v1
oid sha256:c754c52854730f2f854d30d8e68e64b046246ef4e175602ae2736903576abc70
size 111607
