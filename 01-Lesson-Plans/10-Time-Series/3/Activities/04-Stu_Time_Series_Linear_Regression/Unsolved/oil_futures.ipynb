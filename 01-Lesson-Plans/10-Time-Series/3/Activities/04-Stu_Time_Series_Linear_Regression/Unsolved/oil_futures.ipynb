version https://git-lfs.github.com/spec/v1
oid sha256:0811e7f826796e7ef6a93960afcdd005d82ba0f6f851a475fdd04428883207a3
size 70827
