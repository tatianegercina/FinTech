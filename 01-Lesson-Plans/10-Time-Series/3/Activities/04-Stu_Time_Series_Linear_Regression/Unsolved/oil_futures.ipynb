version https://git-lfs.github.com/spec/v1
oid sha256:43c9fa762bb9b5416c10a8098df145da01678352213336fadd535f51c9e84e64
size 75805
