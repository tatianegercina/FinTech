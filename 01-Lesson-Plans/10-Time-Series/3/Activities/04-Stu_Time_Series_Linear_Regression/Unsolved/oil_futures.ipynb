version https://git-lfs.github.com/spec/v1
oid sha256:46f2a0ff00b2872a3dd9262480df4105c0dc8491b6a484e1464cb62de850a1c4
size 75805
