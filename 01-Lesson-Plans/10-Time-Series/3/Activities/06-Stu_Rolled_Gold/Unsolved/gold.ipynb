version https://git-lfs.github.com/spec/v1
oid sha256:ebdf610c088732ba6bf8c500c07caefe0eb30ba7384daa9c696b343ca48591de
size 126314
