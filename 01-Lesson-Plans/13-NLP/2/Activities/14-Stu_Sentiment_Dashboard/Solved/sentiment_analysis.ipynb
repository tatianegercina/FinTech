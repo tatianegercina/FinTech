version https://git-lfs.github.com/spec/v1
oid sha256:ef1e8036aa6f5c8ccea79eb61f186857a32871a91aa0e691e10c2e18d8aa30d6
size 8371435
