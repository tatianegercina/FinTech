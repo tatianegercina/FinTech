version https://git-lfs.github.com/spec/v1
oid sha256:3ef187dcb884a85b65ecc6c9085d7c05d52890493e787495503bc8222c71ab57
size 8362430
