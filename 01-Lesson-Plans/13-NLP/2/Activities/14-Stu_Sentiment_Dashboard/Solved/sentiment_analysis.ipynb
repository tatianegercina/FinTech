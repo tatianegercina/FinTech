version https://git-lfs.github.com/spec/v1
oid sha256:1dc66fb2cbb7ad69a1897360f0ede3ed8b094a8c391295b3063d1038754f9f19
size 5187049
