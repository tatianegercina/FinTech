version https://git-lfs.github.com/spec/v1
oid sha256:0ec539c618a8dfedacb20a3ac38edad1e7f3d9060373ebed26688dc8bfa5dc97
size 5029440
