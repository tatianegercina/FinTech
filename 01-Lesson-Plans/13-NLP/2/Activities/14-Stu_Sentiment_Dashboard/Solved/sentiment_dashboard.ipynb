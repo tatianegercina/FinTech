version https://git-lfs.github.com/spec/v1
oid sha256:aea2f513ddf1851712c057da3e906a0291abbe1d9fd1ac4cff379e1ad3f980df
size 2651900
