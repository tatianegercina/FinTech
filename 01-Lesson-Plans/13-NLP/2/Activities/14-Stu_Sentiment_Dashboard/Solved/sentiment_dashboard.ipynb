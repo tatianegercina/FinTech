version https://git-lfs.github.com/spec/v1
oid sha256:2efbec1435ef712033de4cd7cbbd3ee63f4a3d7695986e0a8c3cf75844960f22
size 2651870
