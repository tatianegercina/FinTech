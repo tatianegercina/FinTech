version https://git-lfs.github.com/spec/v1
oid sha256:1ad294a491047cfc2179174388e1c22abcd10fb10bf2bd9970ae224ccc41e229
size 1049
