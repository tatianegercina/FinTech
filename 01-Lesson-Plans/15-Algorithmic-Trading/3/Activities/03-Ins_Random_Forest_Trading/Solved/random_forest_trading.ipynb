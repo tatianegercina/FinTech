version https://git-lfs.github.com/spec/v1
oid sha256:703f93f4ebd0597cb88b4182ad69feb1af48315a71d57e83a1a3a29c93574b75
size 406140
