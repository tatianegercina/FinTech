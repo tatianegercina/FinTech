version https://git-lfs.github.com/spec/v1
oid sha256:41a95afcfa8684b6228dbe463d210b8fa5985bd93cb3b5e45de821779d009bb7
size 392152
