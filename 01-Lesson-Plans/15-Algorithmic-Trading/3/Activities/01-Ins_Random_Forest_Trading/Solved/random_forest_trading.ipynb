version https://git-lfs.github.com/spec/v1
oid sha256:3b2eaa94cdb0aff48afdad1a4d23a62af51ca76ecbb2f24cf634a2a44dcaf5d0
size 641186
