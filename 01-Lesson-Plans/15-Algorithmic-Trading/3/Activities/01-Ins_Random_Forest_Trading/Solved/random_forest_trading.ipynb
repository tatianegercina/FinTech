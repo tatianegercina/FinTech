version https://git-lfs.github.com/spec/v1
oid sha256:4c3b1e4b8e06791022a3fff2c19d9c9d87def1d5190f1fe3563b0bb44a8ef388
size 852439
