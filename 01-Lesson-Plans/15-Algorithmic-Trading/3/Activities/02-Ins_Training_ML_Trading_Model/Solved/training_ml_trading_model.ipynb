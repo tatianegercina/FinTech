version https://git-lfs.github.com/spec/v1
oid sha256:cb23381d10227be40faa230027e8a30e59db6ec01ebe9444975a4afd6bcbea0f
size 398747
