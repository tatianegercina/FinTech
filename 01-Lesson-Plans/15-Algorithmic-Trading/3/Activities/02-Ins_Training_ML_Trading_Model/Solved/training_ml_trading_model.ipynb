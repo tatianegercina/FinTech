version https://git-lfs.github.com/spec/v1
oid sha256:a25b2a5ae1053f8ee6aeae138defb7cc93d5d2ad51d9ecb143d5aa2f2d22ab82
size 221800
