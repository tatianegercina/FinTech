version https://git-lfs.github.com/spec/v1
oid sha256:1a41efe95400cf8cd7dac168c33f7d0793bd4ba041ff5103849061f1dd11396c
size 386632
