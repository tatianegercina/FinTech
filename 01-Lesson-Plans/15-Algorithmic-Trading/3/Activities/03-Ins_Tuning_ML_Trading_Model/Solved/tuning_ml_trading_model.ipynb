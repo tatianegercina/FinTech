version https://git-lfs.github.com/spec/v1
oid sha256:1cf47867484f083d6663cd5d1099eada16e7952b50c04d4757e1f13cd794789f
size 404037
