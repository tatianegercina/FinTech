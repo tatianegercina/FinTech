version https://git-lfs.github.com/spec/v1
oid sha256:9a5c92b3d7804b71c0735658b76db9c1bb5f785f269e233a3f7cb2e52388f46b
size 382272
