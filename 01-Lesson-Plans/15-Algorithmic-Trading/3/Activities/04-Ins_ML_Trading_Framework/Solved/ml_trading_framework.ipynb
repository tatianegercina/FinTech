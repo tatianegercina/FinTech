version https://git-lfs.github.com/spec/v1
oid sha256:4ba9df3f42ff3c8d202c4071f8292df25507fa5f0bbadaaf900381b8689e66ec
size 71621
