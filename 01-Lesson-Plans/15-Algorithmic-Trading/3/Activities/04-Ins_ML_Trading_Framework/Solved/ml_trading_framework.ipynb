version https://git-lfs.github.com/spec/v1
oid sha256:05efb020bb856f8bc9a83cb740b6fa82543d22b60174413839675caa53ef0402
size 71630
