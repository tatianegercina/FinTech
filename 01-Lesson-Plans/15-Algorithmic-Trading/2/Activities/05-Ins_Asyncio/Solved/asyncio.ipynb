version https://git-lfs.github.com/spec/v1
oid sha256:3c434a89dfbefaed95234652d38c7997a5b5374dc1ce8040f382be0b6225820b
size 18720
