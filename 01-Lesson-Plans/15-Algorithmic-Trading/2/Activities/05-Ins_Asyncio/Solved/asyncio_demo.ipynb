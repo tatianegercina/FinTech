version https://git-lfs.github.com/spec/v1
oid sha256:852cfd42c72ed42a2acbad01b23a4159156810ef806b687b36e748eb9795a7fc
size 2533519
