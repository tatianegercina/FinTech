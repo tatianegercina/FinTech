version https://git-lfs.github.com/spec/v1
oid sha256:78137cfc1f63e30f65e1cb4e8a454fcf49f78dbec4788aca533ad491fe37d4b1
size 2537503
