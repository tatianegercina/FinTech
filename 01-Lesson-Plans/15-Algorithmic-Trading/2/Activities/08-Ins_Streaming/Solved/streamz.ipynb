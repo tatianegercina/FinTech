version https://git-lfs.github.com/spec/v1
oid sha256:3a99dfdfd7ec8d8230f0598549e34c54ff00a4553890bee3c067c55a3a280ec9
size 2561914
