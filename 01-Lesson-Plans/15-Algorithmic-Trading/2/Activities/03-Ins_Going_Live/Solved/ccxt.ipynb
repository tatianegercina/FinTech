version https://git-lfs.github.com/spec/v1
oid sha256:30955f83ef03a6378924d28ed193cab5b5d4b650398b3bb4589a7edd8a74e1bc
size 69327
