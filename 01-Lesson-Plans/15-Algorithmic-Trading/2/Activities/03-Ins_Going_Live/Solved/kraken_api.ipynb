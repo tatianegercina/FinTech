version https://git-lfs.github.com/spec/v1
oid sha256:2a14acc5211a9a7ad02c131814f33fd6bf9dcc5325c43c0fdfa80ab6b110bc75
size 69293
