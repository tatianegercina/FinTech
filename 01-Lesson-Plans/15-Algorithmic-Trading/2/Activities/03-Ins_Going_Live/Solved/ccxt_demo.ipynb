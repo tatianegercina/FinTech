version https://git-lfs.github.com/spec/v1
oid sha256:c48d2dfa10dbf9b93f0ef59f6db6cf93bd82ed02b1b9f95f06f5383f385ba6db
size 66792
