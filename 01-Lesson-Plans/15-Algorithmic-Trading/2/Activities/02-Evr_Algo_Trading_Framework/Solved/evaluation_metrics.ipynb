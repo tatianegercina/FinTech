version https://git-lfs.github.com/spec/v1
oid sha256:a674aa9248eef38f3b96440127469a9c68f51bbae9048fc2a6240cd210b0ff00
size 7038507
