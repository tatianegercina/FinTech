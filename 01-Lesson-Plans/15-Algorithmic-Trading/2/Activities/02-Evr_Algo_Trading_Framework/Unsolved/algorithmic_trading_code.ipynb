version https://git-lfs.github.com/spec/v1
oid sha256:dbb3a9a1a87c4211c2cdc339d95a7794453689178dece3c74f6650a5966ff983
size 288257
