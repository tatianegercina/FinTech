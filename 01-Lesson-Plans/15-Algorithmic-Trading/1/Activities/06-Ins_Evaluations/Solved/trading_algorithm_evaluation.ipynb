version https://git-lfs.github.com/spec/v1
oid sha256:d8f0c7489ceeee95eab3f574ea0f74b5768986edb58ded2d73f1be4b5f296408
size 13360
