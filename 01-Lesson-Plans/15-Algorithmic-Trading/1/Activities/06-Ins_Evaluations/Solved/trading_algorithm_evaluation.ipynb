version https://git-lfs.github.com/spec/v1
oid sha256:50c21c4b55e146992f3c73061adab848e93a6492aa60c6870002201e8785bd92
size 22640
