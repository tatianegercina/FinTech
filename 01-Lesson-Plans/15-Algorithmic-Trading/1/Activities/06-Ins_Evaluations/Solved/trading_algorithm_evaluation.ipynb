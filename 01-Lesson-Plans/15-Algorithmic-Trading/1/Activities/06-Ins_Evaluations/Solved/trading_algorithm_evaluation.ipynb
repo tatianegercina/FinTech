version https://git-lfs.github.com/spec/v1
oid sha256:65a2d2ecb6ef793a4a68cf262dbc0a8e9f34bb6f8d8ca9e039b43f7e095c7843
size 22702
