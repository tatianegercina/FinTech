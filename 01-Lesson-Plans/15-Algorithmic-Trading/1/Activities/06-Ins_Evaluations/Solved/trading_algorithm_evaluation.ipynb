version https://git-lfs.github.com/spec/v1
oid sha256:e45348a60fa7f588aa2014843c99480cd0e7869a4f9dc151f724a4da08b3be53
size 20176
