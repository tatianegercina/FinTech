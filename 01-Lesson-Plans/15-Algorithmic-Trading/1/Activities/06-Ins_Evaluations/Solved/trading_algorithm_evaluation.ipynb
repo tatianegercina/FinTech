version https://git-lfs.github.com/spec/v1
oid sha256:2262b55e6d2e1e4898338332b3a316de6c2ff3b09fb9b3c6d7657e45cfed6b9f
size 31817
