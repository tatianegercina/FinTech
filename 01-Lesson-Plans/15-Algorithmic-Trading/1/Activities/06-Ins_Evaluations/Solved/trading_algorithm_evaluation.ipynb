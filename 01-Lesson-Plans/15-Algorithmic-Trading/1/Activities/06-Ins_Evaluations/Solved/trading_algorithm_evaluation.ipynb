version https://git-lfs.github.com/spec/v1
oid sha256:c5908e92268771775ee91dff14d1eb0eecb59cb38811e4de32eef74a654158d7
size 31816
