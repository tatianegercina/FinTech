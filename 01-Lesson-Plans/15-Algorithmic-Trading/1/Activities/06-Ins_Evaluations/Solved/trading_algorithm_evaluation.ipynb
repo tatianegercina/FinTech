version https://git-lfs.github.com/spec/v1
oid sha256:150179189d3d3cdbdd8042af091ba1ff8d1b0375f606a33da397d12d2e06bfed
size 31783
