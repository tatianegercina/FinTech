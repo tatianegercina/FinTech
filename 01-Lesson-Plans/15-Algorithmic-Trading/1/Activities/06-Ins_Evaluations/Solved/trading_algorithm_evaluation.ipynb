version https://git-lfs.github.com/spec/v1
oid sha256:b4d5576feab3d48355ea45a56fbcde67ce4b4df23dd9728b6e8a17b52b14c490
size 31816
