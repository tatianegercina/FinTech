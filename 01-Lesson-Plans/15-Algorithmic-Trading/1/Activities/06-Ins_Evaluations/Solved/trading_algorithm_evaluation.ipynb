version https://git-lfs.github.com/spec/v1
oid sha256:b3ea595f05d1cc2b16ddba5f2a00ba4c63cc46584d57cf453ce42e92b974cacc
size 31816
