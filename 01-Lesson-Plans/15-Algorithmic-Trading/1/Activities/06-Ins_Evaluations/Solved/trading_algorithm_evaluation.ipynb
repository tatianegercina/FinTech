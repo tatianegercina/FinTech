version https://git-lfs.github.com/spec/v1
oid sha256:c7c8c8d27f726dda48ec3e7b80d3fd3d58841e16177b164b17a3232b27014fd9
size 11894
