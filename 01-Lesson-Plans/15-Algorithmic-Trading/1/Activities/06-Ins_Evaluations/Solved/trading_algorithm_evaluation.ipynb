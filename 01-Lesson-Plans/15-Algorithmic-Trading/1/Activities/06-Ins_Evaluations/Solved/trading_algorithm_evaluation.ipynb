version https://git-lfs.github.com/spec/v1
oid sha256:5ab5cec2a652357d88e01892a545bd9b53cefad812a327a917468dabed396589
size 22657
