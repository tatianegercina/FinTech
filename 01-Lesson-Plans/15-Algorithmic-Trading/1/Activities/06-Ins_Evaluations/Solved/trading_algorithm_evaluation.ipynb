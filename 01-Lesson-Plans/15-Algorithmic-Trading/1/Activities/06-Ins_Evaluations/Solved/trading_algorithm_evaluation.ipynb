version https://git-lfs.github.com/spec/v1
oid sha256:f1d219ccfa7cf293aca2368d3f984a48d3c1169941a4cf35c23617bf0f07242e
size 22867
