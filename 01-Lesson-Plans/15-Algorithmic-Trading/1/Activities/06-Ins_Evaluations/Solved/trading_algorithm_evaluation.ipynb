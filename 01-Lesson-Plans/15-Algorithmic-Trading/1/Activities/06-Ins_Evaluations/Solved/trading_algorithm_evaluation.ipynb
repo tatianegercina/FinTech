version https://git-lfs.github.com/spec/v1
oid sha256:0f9b7539fc5d943339064358ef77fb692b1eed193b8692073b8b9ca209e985e0
size 18824
