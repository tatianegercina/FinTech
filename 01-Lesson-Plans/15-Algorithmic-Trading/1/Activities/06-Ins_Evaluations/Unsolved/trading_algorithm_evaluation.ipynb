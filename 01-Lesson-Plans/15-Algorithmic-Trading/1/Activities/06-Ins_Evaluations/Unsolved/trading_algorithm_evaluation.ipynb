version https://git-lfs.github.com/spec/v1
oid sha256:36ef483e13a6b399b1ad75d2739c5d3cb11a3bd8a6410207888a007b51de755f
size 2267
