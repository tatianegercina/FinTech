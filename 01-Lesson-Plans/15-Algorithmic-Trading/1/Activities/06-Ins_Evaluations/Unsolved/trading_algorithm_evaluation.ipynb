version https://git-lfs.github.com/spec/v1
oid sha256:cf3304d3f2aa50856e8064756a68ca55111062ba95de1ccddb5df009bf7a0f30
size 19630
