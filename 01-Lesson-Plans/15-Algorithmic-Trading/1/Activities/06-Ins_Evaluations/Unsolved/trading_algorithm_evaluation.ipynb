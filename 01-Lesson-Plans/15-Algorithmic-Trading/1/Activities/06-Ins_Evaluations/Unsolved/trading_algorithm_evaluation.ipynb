version https://git-lfs.github.com/spec/v1
oid sha256:a4c9c410c104c07bc7b8f347cbc4d005c5765b2eb976cbdac3e663cf9674d669
size 17343
