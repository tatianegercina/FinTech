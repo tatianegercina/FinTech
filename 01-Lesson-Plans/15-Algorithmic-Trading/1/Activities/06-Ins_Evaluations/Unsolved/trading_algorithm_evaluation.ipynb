version https://git-lfs.github.com/spec/v1
oid sha256:e7c87e0036441af305207346cb46cd4ccbadd3041b1ed3df7f017427485d5222
size 546
