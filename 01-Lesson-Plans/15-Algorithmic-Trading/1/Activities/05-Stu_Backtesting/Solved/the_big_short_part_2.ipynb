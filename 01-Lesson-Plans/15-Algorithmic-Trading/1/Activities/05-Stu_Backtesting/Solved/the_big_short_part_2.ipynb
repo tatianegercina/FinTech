version https://git-lfs.github.com/spec/v1
oid sha256:b6c8175758bf5d5d18c2c8bdb49a7e6f98cb6015dd9581e3a91854a785f34abe
size 3649990
