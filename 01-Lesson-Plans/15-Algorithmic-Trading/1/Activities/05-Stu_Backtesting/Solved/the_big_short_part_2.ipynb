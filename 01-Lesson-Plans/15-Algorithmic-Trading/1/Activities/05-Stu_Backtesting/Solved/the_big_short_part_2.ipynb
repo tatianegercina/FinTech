version https://git-lfs.github.com/spec/v1
oid sha256:b7ddb7768d0db56293e36ec4782e5a9de256f15a095d8a08f9e0f66be37e52a8
size 2716085
