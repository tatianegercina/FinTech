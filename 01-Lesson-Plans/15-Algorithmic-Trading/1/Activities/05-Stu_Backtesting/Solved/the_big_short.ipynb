version https://git-lfs.github.com/spec/v1
oid sha256:14c5305ce4b6e87c237a2d744d1adcc721d8be8e6aa5a0912f730037ada108d5
size 404545
