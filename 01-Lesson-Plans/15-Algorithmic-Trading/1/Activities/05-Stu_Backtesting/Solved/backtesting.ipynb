version https://git-lfs.github.com/spec/v1
oid sha256:160785451860acb1c9eb5c7cc887e914bbd7131e352ff5632a51fd9809bfa793
size 1712514
