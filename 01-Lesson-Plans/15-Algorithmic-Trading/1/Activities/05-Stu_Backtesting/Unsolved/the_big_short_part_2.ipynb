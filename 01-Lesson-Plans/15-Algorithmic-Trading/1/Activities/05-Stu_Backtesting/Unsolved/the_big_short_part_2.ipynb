version https://git-lfs.github.com/spec/v1
oid sha256:7735f461be46a393571307f953b8220d1ccaf2bf0bbbd05ccf5a2641d62ccd44
size 1162882
