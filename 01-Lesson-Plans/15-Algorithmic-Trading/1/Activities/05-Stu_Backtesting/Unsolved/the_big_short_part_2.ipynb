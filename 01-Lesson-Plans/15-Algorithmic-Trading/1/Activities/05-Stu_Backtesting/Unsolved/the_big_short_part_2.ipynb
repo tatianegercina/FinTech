version https://git-lfs.github.com/spec/v1
oid sha256:08437df4789c3072c1828ffaf82eed4d60198703b150dd253949a2723ac040f3
size 1160971
