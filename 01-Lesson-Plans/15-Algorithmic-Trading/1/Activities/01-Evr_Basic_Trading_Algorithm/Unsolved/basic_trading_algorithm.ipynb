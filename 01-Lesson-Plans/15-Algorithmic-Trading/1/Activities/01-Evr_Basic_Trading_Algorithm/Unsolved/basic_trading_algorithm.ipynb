version https://git-lfs.github.com/spec/v1
oid sha256:8accfef3e0fcfea92b2a91b65cb81eb8862c9605cdbcbe7a0c8b3019208de6ab
size 31984
