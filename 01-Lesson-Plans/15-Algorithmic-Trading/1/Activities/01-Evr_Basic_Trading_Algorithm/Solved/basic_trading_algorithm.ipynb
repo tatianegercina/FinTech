version https://git-lfs.github.com/spec/v1
oid sha256:f0d2c9a4e3b8e6a84262b33e32e9f3250b353e6f12d0b0fff073309a1dbfab91
size 33977
