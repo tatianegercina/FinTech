version https://git-lfs.github.com/spec/v1
oid sha256:72600ff6b3efd4bcc6c7e951d437c0e192a4eb054a72b603b11697d8dbcc1a7d
size 36487
