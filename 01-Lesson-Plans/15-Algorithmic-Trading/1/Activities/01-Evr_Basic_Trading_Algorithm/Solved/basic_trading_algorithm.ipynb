version https://git-lfs.github.com/spec/v1
oid sha256:8f6c045b6d883db7cab9702088d39c2945ed9b3988efe7d04a4d24131956c4c2
size 33905
