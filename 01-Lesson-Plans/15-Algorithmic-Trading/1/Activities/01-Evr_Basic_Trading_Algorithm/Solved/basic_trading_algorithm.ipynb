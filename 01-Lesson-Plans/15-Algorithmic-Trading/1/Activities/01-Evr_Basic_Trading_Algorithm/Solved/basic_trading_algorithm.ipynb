version https://git-lfs.github.com/spec/v1
oid sha256:fefb1d809d9d46bcb04cca95b6b3cb41531f1bfa40e3ce78bb7d900e5a3e533f
size 38434
