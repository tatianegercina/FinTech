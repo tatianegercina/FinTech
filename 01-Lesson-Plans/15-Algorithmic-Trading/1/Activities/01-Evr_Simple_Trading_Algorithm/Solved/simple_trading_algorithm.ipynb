version https://git-lfs.github.com/spec/v1
oid sha256:028e58a04155faa68f46026c886431abc801a2699b5f9ee64b5324617535804b
size 36488
