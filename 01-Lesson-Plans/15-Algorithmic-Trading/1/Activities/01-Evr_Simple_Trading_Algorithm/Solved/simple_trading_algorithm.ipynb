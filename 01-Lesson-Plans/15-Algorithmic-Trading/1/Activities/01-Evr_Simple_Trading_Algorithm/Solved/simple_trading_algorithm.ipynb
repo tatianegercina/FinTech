version https://git-lfs.github.com/spec/v1
oid sha256:48ebecd059f2df6d57bf4cbdd9473d99f313ca413c0b2cef6a5b2839ba828f7a
size 36559
