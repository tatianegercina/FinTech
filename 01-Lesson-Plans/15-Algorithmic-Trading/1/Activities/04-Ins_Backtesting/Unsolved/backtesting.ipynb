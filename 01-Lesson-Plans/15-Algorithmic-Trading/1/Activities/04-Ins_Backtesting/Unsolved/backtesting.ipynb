version https://git-lfs.github.com/spec/v1
oid sha256:cd06090382898df8fbd0b650b50d37f0774a95020552b297fb15c5a40da36e5f
size 5034
