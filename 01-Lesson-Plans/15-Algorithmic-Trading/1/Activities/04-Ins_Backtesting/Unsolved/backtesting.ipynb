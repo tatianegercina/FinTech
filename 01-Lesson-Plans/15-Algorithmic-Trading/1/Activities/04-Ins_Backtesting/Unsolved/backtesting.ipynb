version https://git-lfs.github.com/spec/v1
oid sha256:9dc4f4e575f11f6b955aa0c38f80800c720d2afe65f254b356e96c8c8a936fbb
size 1709864
