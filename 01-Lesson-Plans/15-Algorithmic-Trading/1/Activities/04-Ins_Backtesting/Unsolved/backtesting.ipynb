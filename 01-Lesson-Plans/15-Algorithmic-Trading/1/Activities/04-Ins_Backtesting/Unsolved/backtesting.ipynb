version https://git-lfs.github.com/spec/v1
oid sha256:4ba0874b4b1242b0b4bba0f40e2dd28658f5eba100464538e63d9de173ff3ad1
size 5030
