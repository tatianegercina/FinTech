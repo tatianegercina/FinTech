version https://git-lfs.github.com/spec/v1
oid sha256:724bc3649aa45c0d2790b5f02666e704b1635243b213c2ccd23ddc2c61aaf62f
size 4298615
