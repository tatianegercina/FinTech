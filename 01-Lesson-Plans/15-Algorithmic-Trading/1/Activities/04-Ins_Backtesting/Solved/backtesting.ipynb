version https://git-lfs.github.com/spec/v1
oid sha256:e43fcb76e729442c7c6e6437f98035e368396d977e55bbf82735942d5af0aa5b
size 1714413
