version https://git-lfs.github.com/spec/v1
oid sha256:69a549d67c2ada1506cf8f6ad716ce21a252f966b9158de6193655a3d67b2ea4
size 1714413
