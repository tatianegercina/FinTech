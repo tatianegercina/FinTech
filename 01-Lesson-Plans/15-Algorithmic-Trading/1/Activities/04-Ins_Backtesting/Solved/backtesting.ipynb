version https://git-lfs.github.com/spec/v1
oid sha256:7a641d96c13a4b0e35e82d2c00df46006d0fcb5e03327c39f10eabd9c93766ec
size 1712593
