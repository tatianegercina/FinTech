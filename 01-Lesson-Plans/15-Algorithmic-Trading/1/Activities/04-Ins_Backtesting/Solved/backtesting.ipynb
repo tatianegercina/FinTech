version https://git-lfs.github.com/spec/v1
oid sha256:30cb25c1ca5ee391e3908e78c0658e6012552b9054dfd0ab45d4fe46f0dfdd2e
size 2739423
