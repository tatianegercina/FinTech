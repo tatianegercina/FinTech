version https://git-lfs.github.com/spec/v1
oid sha256:82c0e22148c77334be77d7107182765a5de8d67283e66cf524097f8dd70ea4ec
size 1712527
