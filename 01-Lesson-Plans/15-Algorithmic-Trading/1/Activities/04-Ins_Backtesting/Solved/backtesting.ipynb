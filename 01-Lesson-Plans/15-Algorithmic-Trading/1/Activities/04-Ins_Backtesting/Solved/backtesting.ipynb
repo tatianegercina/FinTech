version https://git-lfs.github.com/spec/v1
oid sha256:3c4faf53c97edea46b6408f9113e51a28125e3097a2ca439045f61b9a8585816
size 2739419
