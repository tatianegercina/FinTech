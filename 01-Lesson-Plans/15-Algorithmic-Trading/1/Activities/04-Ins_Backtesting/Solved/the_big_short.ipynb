version https://git-lfs.github.com/spec/v1
oid sha256:1822ca582229abd4cf5ff64326ad5bde983e2a152e62b09c4d3e64cbe9be3c86
size 873641
