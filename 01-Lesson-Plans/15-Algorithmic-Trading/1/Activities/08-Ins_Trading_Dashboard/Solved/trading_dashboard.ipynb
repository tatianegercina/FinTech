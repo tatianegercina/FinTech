version https://git-lfs.github.com/spec/v1
oid sha256:97c8f644963899ed86813ae1caea5c31d239b4cffe0c0db353d75c6251fb60ec
size 5462736
