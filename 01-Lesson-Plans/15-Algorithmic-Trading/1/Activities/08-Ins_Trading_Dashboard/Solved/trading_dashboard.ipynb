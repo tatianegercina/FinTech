version https://git-lfs.github.com/spec/v1
oid sha256:330ea91a64e7d4e1e1e395a8b59c3a01cf0533283766c3ade306e9b9e46afd9c
size 5689482
