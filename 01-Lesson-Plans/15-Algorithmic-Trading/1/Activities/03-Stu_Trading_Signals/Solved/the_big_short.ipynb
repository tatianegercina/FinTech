version https://git-lfs.github.com/spec/v1
oid sha256:6fffbdc48834d0702e85ceb0dccd24119e38b2936d2fb9a1f6d958a993c79db2
size 2606720
