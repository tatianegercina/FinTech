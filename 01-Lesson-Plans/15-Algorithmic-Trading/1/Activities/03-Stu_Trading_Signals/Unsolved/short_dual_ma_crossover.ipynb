version https://git-lfs.github.com/spec/v1
oid sha256:cc6e439f67ec764bf52aa19b2dd43f5e60bdbd3720a57e9cb7073c8b765ab69a
size 591821
