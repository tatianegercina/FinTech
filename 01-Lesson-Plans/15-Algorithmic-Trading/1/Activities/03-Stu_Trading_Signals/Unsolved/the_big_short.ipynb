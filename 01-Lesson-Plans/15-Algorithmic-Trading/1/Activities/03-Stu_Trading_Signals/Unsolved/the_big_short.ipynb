version https://git-lfs.github.com/spec/v1
oid sha256:501eeef2dc7a555e573f976986feffc95df0b4dbe450368d91cf2362cbf188ba
size 2605523
