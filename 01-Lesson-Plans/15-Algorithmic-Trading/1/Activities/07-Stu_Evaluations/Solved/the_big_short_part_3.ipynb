version https://git-lfs.github.com/spec/v1
oid sha256:7fce1a25d22c969d14e6df8e895d3eb10217282702a458da75f849a9a4c31e78
size 2808984
