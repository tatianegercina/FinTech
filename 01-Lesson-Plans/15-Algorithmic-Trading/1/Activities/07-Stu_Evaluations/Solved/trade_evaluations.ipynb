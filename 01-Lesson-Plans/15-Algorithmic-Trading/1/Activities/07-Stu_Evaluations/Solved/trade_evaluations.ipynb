version https://git-lfs.github.com/spec/v1
oid sha256:1c73bc834e453f092a6e0fa34118c70ed9b4d8c03895c4ab5676bdf3a8170c79
size 12056
