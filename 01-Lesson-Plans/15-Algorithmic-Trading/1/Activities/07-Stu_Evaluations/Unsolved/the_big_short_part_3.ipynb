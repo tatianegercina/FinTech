version https://git-lfs.github.com/spec/v1
oid sha256:541e8db067bf8dab100206f9ad5c42542ca06c80f5592893c6a0e6e0299d547b
size 2726494
