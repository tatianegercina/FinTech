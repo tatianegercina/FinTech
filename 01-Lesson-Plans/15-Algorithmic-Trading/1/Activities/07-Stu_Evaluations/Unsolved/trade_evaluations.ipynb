version https://git-lfs.github.com/spec/v1
oid sha256:eaade802382f39543195caf1aec68a2d552050ad2b1a3608c50dbce50a7add37
size 2391
