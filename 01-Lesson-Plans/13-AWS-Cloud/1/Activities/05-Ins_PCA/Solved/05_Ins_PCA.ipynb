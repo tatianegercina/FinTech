version https://git-lfs.github.com/spec/v1
oid sha256:27330899466ddee732ffca473db2a4dec2d8633523ce491f5baadc4df248b3df
size 2406071
