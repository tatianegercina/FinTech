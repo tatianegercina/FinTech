version https://git-lfs.github.com/spec/v1
oid sha256:6516b58d735b7ff2628ff84d69aa7bd205e9b8a103d0cc1bc50f7f8132b60d94
size 3255
