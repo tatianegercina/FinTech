version https://git-lfs.github.com/spec/v1
oid sha256:4fe295bd3ceab0a95a6a2f5d46a9907be725b8f083b212863d118256e0fdd2d4
size 4685
