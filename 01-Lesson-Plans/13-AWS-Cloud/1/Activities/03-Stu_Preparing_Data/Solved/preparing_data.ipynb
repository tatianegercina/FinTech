version https://git-lfs.github.com/spec/v1
oid sha256:af019f9665bd4c621283c1c51911c70012612cac309721bf8b540c3686b3d17c
size 17950
