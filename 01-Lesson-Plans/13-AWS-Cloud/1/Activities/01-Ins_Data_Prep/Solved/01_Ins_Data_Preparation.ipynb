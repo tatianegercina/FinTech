version https://git-lfs.github.com/spec/v1
oid sha256:9fff9364c60460c09c4bd32c527766b19e9092b2ffa4317480ef5e3ad78bd4ba
size 10463
