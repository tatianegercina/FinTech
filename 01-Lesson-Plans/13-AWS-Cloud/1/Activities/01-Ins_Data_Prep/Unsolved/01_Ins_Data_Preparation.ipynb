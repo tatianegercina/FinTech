version https://git-lfs.github.com/spec/v1
oid sha256:0c9d2682ee903cf79b95e87d18baa388effee3a9efc352b00b05c37f56f40fcc
size 2160
