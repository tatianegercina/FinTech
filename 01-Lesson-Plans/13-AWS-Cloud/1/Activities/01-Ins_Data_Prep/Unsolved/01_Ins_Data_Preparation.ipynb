version https://git-lfs.github.com/spec/v1
oid sha256:6473e80727ea1fc2d6c6d0be6e28d571397dd2935e80a77cbd2a346daa4faa0f
size 2160
