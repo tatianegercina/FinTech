version https://git-lfs.github.com/spec/v1
oid sha256:3a82373062f90dfc8432ca384d24de2c3b428688011c88f6cb468ef172f2dada
size 17841
