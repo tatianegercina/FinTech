version https://git-lfs.github.com/spec/v1
oid sha256:79fa9f10e9aaae4dd7fcb61f358afc493efaedfe7e8ba85b1f2e36b58a1ad3e9
size 4597
