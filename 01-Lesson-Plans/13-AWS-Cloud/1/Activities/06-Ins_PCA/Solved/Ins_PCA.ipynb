version https://git-lfs.github.com/spec/v1
oid sha256:4309260d25506dc1a9e7783842a25df7c94e1674137b861e18e2913ff7c1ec47
size 58500
