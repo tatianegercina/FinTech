version https://git-lfs.github.com/spec/v1
oid sha256:31fbb0e6ff8962764b3b1109766b5ba7f4a01795e5cccf5bb5337d57f61928f0
size 239122
