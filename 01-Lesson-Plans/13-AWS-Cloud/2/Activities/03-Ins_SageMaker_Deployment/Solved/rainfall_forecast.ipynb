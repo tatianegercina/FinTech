version https://git-lfs.github.com/spec/v1
oid sha256:9ae92174e7f94cf868442acec27b19ded38f09a6159639e46fe8b81f9720fec8
size 189935
