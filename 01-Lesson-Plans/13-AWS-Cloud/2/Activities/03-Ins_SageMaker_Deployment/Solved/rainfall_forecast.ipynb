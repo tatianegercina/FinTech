version https://git-lfs.github.com/spec/v1
oid sha256:34e03859f989bd6e5e8cfb321181a1baa54e216d80e5b6dd98d2915d4cb95d4a
size 198715
