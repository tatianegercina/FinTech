version https://git-lfs.github.com/spec/v1
oid sha256:11305644b1ce6c4f48cc4638ef989c53ee6634a351bd3e42192909899ad27cb1
size 194739
