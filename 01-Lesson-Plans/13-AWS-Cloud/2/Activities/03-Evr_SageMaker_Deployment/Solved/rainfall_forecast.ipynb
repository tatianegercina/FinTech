version https://git-lfs.github.com/spec/v1
oid sha256:878ac74c67438255c0c9e22f23cb8296ecb535460525dec9e99a4fa0ce9d3dd0
size 170845
