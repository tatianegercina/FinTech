version https://git-lfs.github.com/spec/v1
oid sha256:a1f3ec1e2cd068a6d469314bca7344a7b32c9b308d9947af8169e86e4d4eaef2
size 170850
