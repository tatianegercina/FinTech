version https://git-lfs.github.com/spec/v1
oid sha256:3295961f2954ee44eab295b57f6a08b6c218725c0626ecf26833b6e8b5b44838
size 286679
