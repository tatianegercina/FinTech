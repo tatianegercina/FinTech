version https://git-lfs.github.com/spec/v1
oid sha256:bc849faae79c829fd4c5950290068df54b872a62e23186dcccdcb3440149eed5
size 86017
