version https://git-lfs.github.com/spec/v1
oid sha256:58e60e96425d15ff799955279c8a9ca4c3c6c11fe1e07aae2d89e9654446aec4
size 19568
