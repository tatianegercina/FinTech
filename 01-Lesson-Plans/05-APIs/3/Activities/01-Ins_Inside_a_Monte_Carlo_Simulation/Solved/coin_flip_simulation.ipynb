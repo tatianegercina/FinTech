version https://git-lfs.github.com/spec/v1
oid sha256:c9bfa249c8d31ac19b58424250fd19b536cd8e1d349d95733c639cf80e029141
size 18012
