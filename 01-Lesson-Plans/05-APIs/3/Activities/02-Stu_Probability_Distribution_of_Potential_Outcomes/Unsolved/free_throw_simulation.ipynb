version https://git-lfs.github.com/spec/v1
oid sha256:6e9290c1bd269e4bcba37b392e05687dd91e66a3e3dee68b5bc928c5abf30e78
size 388352
