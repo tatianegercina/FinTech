version https://git-lfs.github.com/spec/v1
oid sha256:3a45c72eef59751e1ba1eccfa6ab6dc2882547bc4e4afce562cfe42e121d7d97
size 521061
