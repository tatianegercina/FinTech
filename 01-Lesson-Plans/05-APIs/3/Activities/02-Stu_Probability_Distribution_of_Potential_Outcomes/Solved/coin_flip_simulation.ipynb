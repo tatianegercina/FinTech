version https://git-lfs.github.com/spec/v1
oid sha256:43dd120fa90a480f28e3e97275b4bb221eeb56fb83eea9e9a563370c4a60be40
size 521175
