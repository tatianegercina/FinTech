version https://git-lfs.github.com/spec/v1
oid sha256:4ab22e4dfdde4b9e9431c8a6e3df3c7132512b49e042b9310d07141ee38d2d19
size 533497
