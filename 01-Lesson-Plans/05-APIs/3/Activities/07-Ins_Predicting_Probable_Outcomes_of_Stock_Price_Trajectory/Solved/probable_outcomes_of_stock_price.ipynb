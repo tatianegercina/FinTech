version https://git-lfs.github.com/spec/v1
oid sha256:208dd504606218cf4cad2152430d9fa2e88ac5f04b0c859fcf2a10affbd6dcb6
size 214717
