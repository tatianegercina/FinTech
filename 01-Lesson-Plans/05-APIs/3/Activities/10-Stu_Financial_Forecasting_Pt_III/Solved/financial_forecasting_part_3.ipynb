version https://git-lfs.github.com/spec/v1
oid sha256:b1b68eb3a4c35130c0b0f133825367df3eeaed434c981ae135ffe8c80246e2b4
size 227492
