version https://git-lfs.github.com/spec/v1
oid sha256:18810150b052a857a248c52e99629de78fe5850f9665e69310e8a62c0ef08d28
size 492063
