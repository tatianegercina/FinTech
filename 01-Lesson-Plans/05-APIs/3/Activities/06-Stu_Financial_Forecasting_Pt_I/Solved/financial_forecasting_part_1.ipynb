version https://git-lfs.github.com/spec/v1
oid sha256:5d57db74bb6b794e746b846f261b9671a93ff1339bcb6668b76fa9820a2d9d75
size 518517
