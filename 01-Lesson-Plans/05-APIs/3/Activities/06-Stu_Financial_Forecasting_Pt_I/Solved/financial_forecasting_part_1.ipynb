version https://git-lfs.github.com/spec/v1
oid sha256:70fab7e2beed5cce787b6b88d7f341e13ea28903029c5844f6855af487ca6b8f
size 507216
