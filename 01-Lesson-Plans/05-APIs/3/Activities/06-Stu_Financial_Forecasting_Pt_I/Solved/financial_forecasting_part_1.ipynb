version https://git-lfs.github.com/spec/v1
oid sha256:942dfb870aca683913620ae88b756e24d1ab572f046971909777d51e95afce84
size 537822
