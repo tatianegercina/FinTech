version https://git-lfs.github.com/spec/v1
oid sha256:6de8f0868b89db4628389fe30d89001fa171ccbfa79a373c4707a7799ddc7cec
size 529317
