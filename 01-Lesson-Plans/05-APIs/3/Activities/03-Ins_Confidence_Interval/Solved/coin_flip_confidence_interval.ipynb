version https://git-lfs.github.com/spec/v1
oid sha256:749242b976f5c93a70fd8a7b47d7a503a332d1c3ff62ab9b3d4e304538a33bdc
size 508031
