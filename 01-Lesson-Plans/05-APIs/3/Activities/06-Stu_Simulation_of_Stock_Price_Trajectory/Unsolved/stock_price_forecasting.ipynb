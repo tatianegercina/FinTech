version https://git-lfs.github.com/spec/v1
oid sha256:5c7004849c5763fe04f16beed4fa35897c7da83096294385cb7215b830ee9859
size 64892
