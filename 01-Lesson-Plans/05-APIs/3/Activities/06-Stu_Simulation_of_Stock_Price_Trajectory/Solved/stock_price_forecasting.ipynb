version https://git-lfs.github.com/spec/v1
oid sha256:34a1ee2ff98152c9f3f7f95ea28002b7d4a7547d907aa78f11d260c706fea727
size 66824
