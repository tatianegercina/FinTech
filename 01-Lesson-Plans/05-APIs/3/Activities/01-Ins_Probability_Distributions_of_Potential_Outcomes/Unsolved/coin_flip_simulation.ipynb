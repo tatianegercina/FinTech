version https://git-lfs.github.com/spec/v1
oid sha256:dc9d707fd1ea487a4775521899692e2bbf7d4e7ef46ef7b4ee6867ec1eddad0a
size 153255
