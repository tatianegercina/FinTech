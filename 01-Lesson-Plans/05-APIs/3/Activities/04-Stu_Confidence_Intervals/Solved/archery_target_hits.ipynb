version https://git-lfs.github.com/spec/v1
oid sha256:a584d3fe9d15a1064d701b704f128cad2eade358b4ba9e0d4d0ee9d4afcc0ae2
size 230959
