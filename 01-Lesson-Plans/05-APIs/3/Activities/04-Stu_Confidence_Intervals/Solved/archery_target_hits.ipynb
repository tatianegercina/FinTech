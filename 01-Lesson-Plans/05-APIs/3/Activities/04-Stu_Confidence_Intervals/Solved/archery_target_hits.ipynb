version https://git-lfs.github.com/spec/v1
oid sha256:7dc131622cf6ca4e9b1fa0ccf0fecf5b4d49a18b3a12b0e436214f426e34488e
size 230763
