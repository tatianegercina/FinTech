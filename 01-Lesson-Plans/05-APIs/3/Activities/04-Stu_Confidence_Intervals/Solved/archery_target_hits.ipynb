version https://git-lfs.github.com/spec/v1
oid sha256:e747fa3ff6fde18600d491c0c9f22a6ab3b808acf79e660c99f4489fb5876e84
size 54130
