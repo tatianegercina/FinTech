version https://git-lfs.github.com/spec/v1
oid sha256:e5781e41dee8ca61a13a61cde25f3a300095601c462ee939e4e0717dc8505c13
size 232377
