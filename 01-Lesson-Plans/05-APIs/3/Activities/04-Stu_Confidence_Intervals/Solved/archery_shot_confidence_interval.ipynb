version https://git-lfs.github.com/spec/v1
oid sha256:de31b5a873aa00e1249734ae1eca50fd9f1d6efd5fed76bf00458d3a77e2c92d
size 230777
