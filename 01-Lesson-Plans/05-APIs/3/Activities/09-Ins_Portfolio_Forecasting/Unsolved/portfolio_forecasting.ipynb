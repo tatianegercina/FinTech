version https://git-lfs.github.com/spec/v1
oid sha256:50ca67b2a7374cc0de8c29c853c7ec80993b570739f9d95c491ce8a8be2b6ea8
size 674229
