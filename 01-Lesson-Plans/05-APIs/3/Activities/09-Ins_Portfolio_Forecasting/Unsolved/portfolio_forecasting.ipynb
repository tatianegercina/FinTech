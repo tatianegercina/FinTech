version https://git-lfs.github.com/spec/v1
oid sha256:7a818f7dbf7fcef562cbc8c2b7129df57e8f71a6dca9b990561eced214434c39
size 673515
