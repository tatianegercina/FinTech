version https://git-lfs.github.com/spec/v1
oid sha256:84f68f3d8201175e40b5a534e3464290511a53a88c43b7438b6fc6b839a3aa88
size 674088
