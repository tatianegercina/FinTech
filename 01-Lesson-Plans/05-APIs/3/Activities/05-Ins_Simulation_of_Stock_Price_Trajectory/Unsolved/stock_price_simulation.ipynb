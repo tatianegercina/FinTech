version https://git-lfs.github.com/spec/v1
oid sha256:58e0b6c1717a2e41ca990c10aa4e15e8fbf5c9cd061f14107dba9a1c688a64d1
size 529990
