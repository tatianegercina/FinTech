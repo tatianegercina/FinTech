version https://git-lfs.github.com/spec/v1
oid sha256:e2a10ac242bd509f7d416ad1e8a3628350253719da9bc445927aa19701d9ae6c
size 544471
