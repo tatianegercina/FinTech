version https://git-lfs.github.com/spec/v1
oid sha256:79e8ff242954aa80bbe82587f003e1b723a4a14cd071a67fe7a09ea4f78f7c11
size 512569
