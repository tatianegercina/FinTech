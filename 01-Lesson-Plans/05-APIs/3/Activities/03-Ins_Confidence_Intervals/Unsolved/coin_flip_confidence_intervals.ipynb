version https://git-lfs.github.com/spec/v1
oid sha256:1f5ed465c739354be6b775b1a42e0600a623e63948ebc0459912bf047160afb5
size 506207
