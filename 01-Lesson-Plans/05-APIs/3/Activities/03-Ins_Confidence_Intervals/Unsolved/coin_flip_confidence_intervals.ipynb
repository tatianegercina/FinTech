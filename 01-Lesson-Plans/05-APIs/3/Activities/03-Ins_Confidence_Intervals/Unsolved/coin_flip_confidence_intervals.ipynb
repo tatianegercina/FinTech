version https://git-lfs.github.com/spec/v1
oid sha256:f4b85d1005a8f0abbe5c151451f23b6f9eb9aebbdb105304b419ac02e1e22bb9
size 52778
