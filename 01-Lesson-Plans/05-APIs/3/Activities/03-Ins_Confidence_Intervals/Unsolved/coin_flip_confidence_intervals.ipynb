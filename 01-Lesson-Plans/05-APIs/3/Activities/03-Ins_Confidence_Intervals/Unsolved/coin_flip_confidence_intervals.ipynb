version https://git-lfs.github.com/spec/v1
oid sha256:ff90dd7693807187cd8a1e1dafe1632ba8ce731698bab3812f14ddde2116c38f
size 52776
