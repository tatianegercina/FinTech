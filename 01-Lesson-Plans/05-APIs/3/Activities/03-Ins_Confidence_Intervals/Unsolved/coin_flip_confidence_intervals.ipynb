version https://git-lfs.github.com/spec/v1
oid sha256:160cc8e62e3dff9a3df334b0ed8c86a4cfbf1d42084a3384516863ac40ac3e91
size 507643
