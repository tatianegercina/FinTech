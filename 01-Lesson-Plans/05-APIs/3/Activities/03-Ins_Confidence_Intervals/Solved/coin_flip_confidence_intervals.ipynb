version https://git-lfs.github.com/spec/v1
oid sha256:56ed0b72be22ae9bafdbf8fa3484d9e874717454286dd0cf9f993476fe9a4e2d
size 508080
