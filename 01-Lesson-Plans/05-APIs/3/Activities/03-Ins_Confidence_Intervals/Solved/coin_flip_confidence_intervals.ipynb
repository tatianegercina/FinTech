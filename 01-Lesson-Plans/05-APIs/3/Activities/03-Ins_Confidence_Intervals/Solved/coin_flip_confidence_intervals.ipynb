version https://git-lfs.github.com/spec/v1
oid sha256:8f67a6e76b866464b985bd19c96e39c35433d490694f5e8e2ac6c26b520f1723
size 54827
