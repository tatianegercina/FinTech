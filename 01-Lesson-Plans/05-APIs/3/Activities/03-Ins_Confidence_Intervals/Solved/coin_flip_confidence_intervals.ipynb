version https://git-lfs.github.com/spec/v1
oid sha256:6fdfe41a4da072b1b4da245457ef4f9d6b38d2fe7111980e3e19b851135a6618
size 55057
