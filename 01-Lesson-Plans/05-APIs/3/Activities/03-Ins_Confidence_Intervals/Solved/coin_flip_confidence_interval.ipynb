version https://git-lfs.github.com/spec/v1
oid sha256:fcb9614c37e1d30222c3a9f6109e24f728bf5b7ee82a7838aaa13ecbac6baf93
size 527345
