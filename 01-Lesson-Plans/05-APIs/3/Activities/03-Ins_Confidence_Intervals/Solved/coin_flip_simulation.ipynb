version https://git-lfs.github.com/spec/v1
oid sha256:a50106d0782540a946be21b384c25702779c74171bdbc94c702995d2821d2eb4
size 55182
