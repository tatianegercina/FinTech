version https://git-lfs.github.com/spec/v1
oid sha256:f045f02d302c4390a79377e4201f9b63f3bb57138041f1804dcf42ff9d9817cf
size 3072
