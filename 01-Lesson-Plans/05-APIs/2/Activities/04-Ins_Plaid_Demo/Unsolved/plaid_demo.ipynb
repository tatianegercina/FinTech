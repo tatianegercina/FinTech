version https://git-lfs.github.com/spec/v1
oid sha256:4e8b5f30b4f79be6200b2d967f01909f92d4a6dfe8a500d5edf303dbf178e35c
size 3256
