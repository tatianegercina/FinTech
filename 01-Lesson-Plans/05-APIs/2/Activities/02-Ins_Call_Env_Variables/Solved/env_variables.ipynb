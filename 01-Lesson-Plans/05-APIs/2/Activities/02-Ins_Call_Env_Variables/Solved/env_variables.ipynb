version https://git-lfs.github.com/spec/v1
oid sha256:6cdd1c134f1c3a3f86c27e8adea82dc34c19c94a287e50e6f9bb6483b3a5c670
size 1057
