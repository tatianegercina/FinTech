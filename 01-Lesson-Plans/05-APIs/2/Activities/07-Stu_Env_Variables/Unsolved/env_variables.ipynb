version https://git-lfs.github.com/spec/v1
oid sha256:c7b239aae25abe95e8bac1a62c62f19f2a9c6ac483a86505c2b3351ef58b6923
size 2636
