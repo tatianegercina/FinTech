version https://git-lfs.github.com/spec/v1
oid sha256:6d2b291768c7bd6a5e96a1777e959485468b807438d6806cfd2ed2443a5a1bdd
size 58449
