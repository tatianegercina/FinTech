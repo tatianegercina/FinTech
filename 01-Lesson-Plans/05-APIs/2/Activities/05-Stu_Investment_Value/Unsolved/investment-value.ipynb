version https://git-lfs.github.com/spec/v1
oid sha256:d3018201036917469c4343b0f16eb812059431ce8d1b7aec7a5c55bb2683fb5f
size 32787
