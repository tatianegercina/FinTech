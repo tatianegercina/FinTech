version https://git-lfs.github.com/spec/v1
oid sha256:f9d2d05e135185d1428f91a6ac6b68f457b2e193796ef60b70ba3d46eb244887
size 35128
