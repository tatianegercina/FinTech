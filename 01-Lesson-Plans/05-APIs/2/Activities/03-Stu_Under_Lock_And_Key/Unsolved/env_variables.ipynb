version https://git-lfs.github.com/spec/v1
oid sha256:df4c74e4bcc0cb77da7c778917d5be4815f78fd6b1691aa26ab135228b23d158
size 3289
