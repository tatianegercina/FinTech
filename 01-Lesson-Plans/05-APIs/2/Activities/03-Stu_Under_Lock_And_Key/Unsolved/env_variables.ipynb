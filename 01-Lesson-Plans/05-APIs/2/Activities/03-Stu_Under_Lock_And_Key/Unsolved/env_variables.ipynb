version https://git-lfs.github.com/spec/v1
oid sha256:b0e722e08f6b9d5d5059eb81c244c9bcbd952c9e9941c82bfa2ceebe68b50fca
size 2900
