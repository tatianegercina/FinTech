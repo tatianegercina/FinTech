version https://git-lfs.github.com/spec/v1
oid sha256:0e71400b2ecf694ea01eefde80272f6363ce297bb4a52153ac09af2b4dc72172
size 1088959
