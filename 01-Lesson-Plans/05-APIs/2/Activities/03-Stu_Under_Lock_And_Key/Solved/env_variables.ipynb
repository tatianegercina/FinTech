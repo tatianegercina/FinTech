version https://git-lfs.github.com/spec/v1
oid sha256:ec247f5b1d4ee1125beeba2b63de0473ed51358a0d34175a2e63fc039c71f159
size 1088233
