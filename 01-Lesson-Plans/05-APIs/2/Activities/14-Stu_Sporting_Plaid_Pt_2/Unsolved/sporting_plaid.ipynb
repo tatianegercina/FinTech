version https://git-lfs.github.com/spec/v1
oid sha256:5cbdcb8b97c3fcf57b5eb7a26d78db34b730e42b2b03f081f91d82d74c7d2d99
size 3213
