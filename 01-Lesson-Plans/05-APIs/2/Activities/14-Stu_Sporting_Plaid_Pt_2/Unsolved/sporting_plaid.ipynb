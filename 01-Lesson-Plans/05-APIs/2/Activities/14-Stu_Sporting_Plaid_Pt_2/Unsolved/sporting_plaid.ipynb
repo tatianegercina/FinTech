version https://git-lfs.github.com/spec/v1
oid sha256:de6c2781a46b3eb9055913840eda6fc7db59de6988aeb3e4eab0b316846b778c
size 3233
