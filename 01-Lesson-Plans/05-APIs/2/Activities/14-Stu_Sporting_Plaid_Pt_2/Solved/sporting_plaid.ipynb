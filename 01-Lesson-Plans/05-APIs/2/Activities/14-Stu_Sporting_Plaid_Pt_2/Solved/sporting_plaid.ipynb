version https://git-lfs.github.com/spec/v1
oid sha256:2c48ab445afb35504cdf7a7233ed919c932e7fc77366aac0fd40fd58b01983f4
size 3802
