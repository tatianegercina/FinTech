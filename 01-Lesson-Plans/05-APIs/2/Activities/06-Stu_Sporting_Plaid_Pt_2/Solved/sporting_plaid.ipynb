version https://git-lfs.github.com/spec/v1
oid sha256:3683587c5dbbc4b794e99d268915eb20a922854cc72b22cdf9c9da20ace38d7e
size 3792
