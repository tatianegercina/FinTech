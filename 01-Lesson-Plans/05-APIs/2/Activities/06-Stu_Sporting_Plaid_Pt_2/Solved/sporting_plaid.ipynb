version https://git-lfs.github.com/spec/v1
oid sha256:a4ed6ca13f44120ce852a8a4c9d44cb24c14eef7f6ab1525cb03bd2f66192b32
size 4305
