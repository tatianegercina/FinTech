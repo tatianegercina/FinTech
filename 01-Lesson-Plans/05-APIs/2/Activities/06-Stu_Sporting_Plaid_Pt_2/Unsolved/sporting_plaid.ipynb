version https://git-lfs.github.com/spec/v1
oid sha256:81b48fbb6500aa321d9c0f045f24afee49271de107fc919878926f621a8a183b
size 3325
