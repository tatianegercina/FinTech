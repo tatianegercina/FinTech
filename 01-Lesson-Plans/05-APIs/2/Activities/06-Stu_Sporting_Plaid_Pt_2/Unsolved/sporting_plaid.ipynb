version https://git-lfs.github.com/spec/v1
oid sha256:15fb0f081894561886df930a46c2e603dc3e0afc4854b7004788fe679f17e709
size 3558
