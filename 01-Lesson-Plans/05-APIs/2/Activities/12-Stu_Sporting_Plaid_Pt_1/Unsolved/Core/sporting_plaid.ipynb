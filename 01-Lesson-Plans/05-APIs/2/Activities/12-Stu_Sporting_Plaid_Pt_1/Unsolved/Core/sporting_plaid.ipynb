version https://git-lfs.github.com/spec/v1
oid sha256:e5ff0bafd8168be5b9eff59e151e1841e992217cb5ae6b66da5da158ca4eedc2
size 1332
