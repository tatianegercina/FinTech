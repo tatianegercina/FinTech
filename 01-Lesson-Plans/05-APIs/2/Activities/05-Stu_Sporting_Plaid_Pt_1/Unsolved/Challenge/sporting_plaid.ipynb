version https://git-lfs.github.com/spec/v1
oid sha256:2ca2f12bcf55ee6ec8d8b90c7979f6604af335cd9ea19b7068e7d9997370ceac
size 2021
