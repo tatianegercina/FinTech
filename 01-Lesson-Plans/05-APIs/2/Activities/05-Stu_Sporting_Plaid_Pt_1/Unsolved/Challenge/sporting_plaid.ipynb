version https://git-lfs.github.com/spec/v1
oid sha256:44e8e826798827253ebe091dfeb3c79f65da9cb21b20d9107e5f66bdce5358f4
size 1765
