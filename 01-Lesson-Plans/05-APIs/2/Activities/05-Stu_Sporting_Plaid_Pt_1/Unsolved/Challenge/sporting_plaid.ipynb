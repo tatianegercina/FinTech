version https://git-lfs.github.com/spec/v1
oid sha256:6549e3d29f91e47fdf6db92d1aace8c4fac8652fc342c7421b2781c5e49ee367
size 1697
