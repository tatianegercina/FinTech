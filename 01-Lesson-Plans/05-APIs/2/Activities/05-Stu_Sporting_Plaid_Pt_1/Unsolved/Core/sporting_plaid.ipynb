version https://git-lfs.github.com/spec/v1
oid sha256:3a32b8d5006bfd6f7c5055ae588fe963af23e08f9ba7db41c6f603cc8d8fca2a
size 1617
