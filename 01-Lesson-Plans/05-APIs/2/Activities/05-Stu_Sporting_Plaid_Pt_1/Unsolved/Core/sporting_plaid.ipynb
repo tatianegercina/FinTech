version https://git-lfs.github.com/spec/v1
oid sha256:1922bec2ade35984e1e077a03d45db45b3f396836812775aca05fbb40a22feb6
size 1616
