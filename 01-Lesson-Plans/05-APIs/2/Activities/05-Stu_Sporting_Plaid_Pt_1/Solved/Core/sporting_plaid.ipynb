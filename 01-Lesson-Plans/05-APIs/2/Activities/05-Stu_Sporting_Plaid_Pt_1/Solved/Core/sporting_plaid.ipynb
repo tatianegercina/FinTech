version https://git-lfs.github.com/spec/v1
oid sha256:1c4575591c6721240ef55537f2e43bfcf36642adca3137c60359d68ba3189e4e
size 2077
