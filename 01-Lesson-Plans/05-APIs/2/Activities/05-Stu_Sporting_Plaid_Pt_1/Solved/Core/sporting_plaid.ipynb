version https://git-lfs.github.com/spec/v1
oid sha256:af5437821508a88fe4298fc525e2120f7748f66e00b42ea8db3554de90c2823c
size 2357
