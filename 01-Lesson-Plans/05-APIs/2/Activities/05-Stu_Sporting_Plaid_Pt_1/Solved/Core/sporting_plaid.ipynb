version https://git-lfs.github.com/spec/v1
oid sha256:9c531e39c45b707308598e7eacbe7e4ba232c712bc0ba01fa28b2dbf8f40de8c
size 1685
