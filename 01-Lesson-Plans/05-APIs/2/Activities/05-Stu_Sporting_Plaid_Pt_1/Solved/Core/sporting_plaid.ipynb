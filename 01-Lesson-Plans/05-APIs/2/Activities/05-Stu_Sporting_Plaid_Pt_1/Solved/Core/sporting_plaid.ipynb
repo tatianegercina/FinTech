version https://git-lfs.github.com/spec/v1
oid sha256:95f1c8ee736b348a07a2e1eaabfbbbc6a40115c0998bc73463763b9154c7fbc7
size 2329
