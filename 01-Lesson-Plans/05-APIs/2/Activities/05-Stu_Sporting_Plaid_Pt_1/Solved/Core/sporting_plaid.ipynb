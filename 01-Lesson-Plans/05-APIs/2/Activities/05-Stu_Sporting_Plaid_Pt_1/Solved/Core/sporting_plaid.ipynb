version https://git-lfs.github.com/spec/v1
oid sha256:99fc37e01fdaeae170085897818fa8f99b52b6665f4744c7170c01436f9eada9
size 2078
