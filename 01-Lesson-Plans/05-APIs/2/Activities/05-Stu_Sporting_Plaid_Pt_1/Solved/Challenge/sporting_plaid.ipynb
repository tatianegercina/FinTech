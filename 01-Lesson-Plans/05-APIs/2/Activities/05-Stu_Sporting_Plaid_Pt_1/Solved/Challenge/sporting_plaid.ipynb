version https://git-lfs.github.com/spec/v1
oid sha256:0d1d66a69917d17710bc7e49389bdbf5986d92229c01a9cffaab825106dba785
size 2630
