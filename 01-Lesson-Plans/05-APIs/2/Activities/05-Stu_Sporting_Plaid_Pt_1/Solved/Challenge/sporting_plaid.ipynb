version https://git-lfs.github.com/spec/v1
oid sha256:440cde2b97a538fd456d557124c3dfef331fa459fc3d55d8cd622a17c743c267
size 2658
