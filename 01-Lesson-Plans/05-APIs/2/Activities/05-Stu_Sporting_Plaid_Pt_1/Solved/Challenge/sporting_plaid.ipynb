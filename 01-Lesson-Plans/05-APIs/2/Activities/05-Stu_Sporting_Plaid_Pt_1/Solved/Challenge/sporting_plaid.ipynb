version https://git-lfs.github.com/spec/v1
oid sha256:8044fa3123b9392a0c120804f2f20109209c5f975b14aca147d3d99463029ffa
size 2260
