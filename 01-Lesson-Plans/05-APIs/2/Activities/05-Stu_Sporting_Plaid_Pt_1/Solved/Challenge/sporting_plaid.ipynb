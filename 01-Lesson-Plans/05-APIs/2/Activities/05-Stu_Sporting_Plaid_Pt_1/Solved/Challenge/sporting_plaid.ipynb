version https://git-lfs.github.com/spec/v1
oid sha256:f6d00f1158403aed4254a06ad6a434eba80e601a228903dffee03388a2f4cd94
size 2118
