version https://git-lfs.github.com/spec/v1
oid sha256:6a8ded69c650ae4041a04beb429c6ee40162d05a5924d13e731159eb82fa4805
size 3390
