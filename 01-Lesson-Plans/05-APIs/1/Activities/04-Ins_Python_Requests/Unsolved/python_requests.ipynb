version https://git-lfs.github.com/spec/v1
oid sha256:2b87983a8505a8022bf9abe67acdf490a572fdc96900458f2e1e3b6ea97c2f80
size 3086
