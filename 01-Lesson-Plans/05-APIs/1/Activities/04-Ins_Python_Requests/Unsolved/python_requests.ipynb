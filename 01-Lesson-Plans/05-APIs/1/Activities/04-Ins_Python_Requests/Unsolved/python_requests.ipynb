version https://git-lfs.github.com/spec/v1
oid sha256:4768394ff7cfa7e7fc196f9a020e118d0a1847d913bd3c255f7a5d0adf1ee522
size 2711
