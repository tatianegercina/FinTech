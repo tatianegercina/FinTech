version https://git-lfs.github.com/spec/v1
oid sha256:8188968336f57d0a1f0d4dc35d4a6edcb0b7d0dc1cba75946f23522e9bb8a1c6
size 1497
