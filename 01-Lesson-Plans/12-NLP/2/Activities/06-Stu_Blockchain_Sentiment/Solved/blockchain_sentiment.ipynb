version https://git-lfs.github.com/spec/v1
oid sha256:cc0c6dd913309ccb4257fab1d3761f402a89247b72f1dac9a93e1a0704289d75
size 49520
