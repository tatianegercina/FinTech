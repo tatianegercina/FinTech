version https://git-lfs.github.com/spec/v1
oid sha256:63d2e10bd7811cf929734ac7f0b882ef2086a5ab490a2370b0ab990a14836f7d
size 14594
