version https://git-lfs.github.com/spec/v1
oid sha256:0bafd3c0552db0cf4b7ab5c70cd1bbc7a027eadc331421cb36ca87a9eb18fda5
size 16292
