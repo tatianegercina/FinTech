version https://git-lfs.github.com/spec/v1
oid sha256:6c61c7fddad2ec4654e96b64f8eca3b18bf5e6e83292efde2e5b078fd1cb8b35
size 8031
