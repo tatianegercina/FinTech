version https://git-lfs.github.com/spec/v1
oid sha256:ea9b0179b5241c6f0bb574bedb78a4e69dc1d62666ec932ec840aca75fd7e458
size 2371
