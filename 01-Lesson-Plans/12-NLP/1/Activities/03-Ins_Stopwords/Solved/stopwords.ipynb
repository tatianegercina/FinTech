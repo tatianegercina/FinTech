version https://git-lfs.github.com/spec/v1
oid sha256:d39ac42ecc47f11d1ea979649f5e95bd2d40bc746558c87027d3cdee4fda3cb1
size 8110
