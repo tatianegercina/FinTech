version https://git-lfs.github.com/spec/v1
oid sha256:50c63fefad6570c76d48c34314ccd80239600a7834dcaf54639c974570c39686
size 1988
