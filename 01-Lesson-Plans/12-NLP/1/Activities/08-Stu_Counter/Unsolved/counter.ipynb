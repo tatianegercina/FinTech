version https://git-lfs.github.com/spec/v1
oid sha256:a9d8f0538b32f42ea5e6f4cc5758f392a9bc3f58c479a06452d2e245a6f4024a
size 2619
