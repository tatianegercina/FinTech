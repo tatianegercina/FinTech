version https://git-lfs.github.com/spec/v1
oid sha256:08f8ca500da77eb934bcee947c14cbefdeee413a316e624fff8add08f02cc709
size 13767
