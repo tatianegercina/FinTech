version https://git-lfs.github.com/spec/v1
oid sha256:5bccc0fe7f5364a1e9b19ea8eaa34fb30c341dc967f4c9bcb7710e08f76e503c
size 26428
