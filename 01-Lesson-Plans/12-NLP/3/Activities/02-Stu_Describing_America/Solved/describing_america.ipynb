version https://git-lfs.github.com/spec/v1
oid sha256:4a497bf70cff795a85e6e1764c0072187315af8f6961d6a2d5275bb440cf1f08
size 28617
