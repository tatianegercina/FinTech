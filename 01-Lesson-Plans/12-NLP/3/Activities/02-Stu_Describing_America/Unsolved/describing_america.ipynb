version https://git-lfs.github.com/spec/v1
oid sha256:b09d4cd8c48a6858bf601a465101b5b014e0cc6d7f86decd189a4efa44f19ea9
size 1227
