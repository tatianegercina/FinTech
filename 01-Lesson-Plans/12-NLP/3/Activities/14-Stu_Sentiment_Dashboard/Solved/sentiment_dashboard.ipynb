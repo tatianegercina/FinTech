version https://git-lfs.github.com/spec/v1
oid sha256:a095de54bde1efe0b946ae6d38fc001f3a3511eae8342fde1c34887aebce44c5
size 5056437
