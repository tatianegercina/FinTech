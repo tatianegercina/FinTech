version https://git-lfs.github.com/spec/v1
oid sha256:273410162b51136c4cfc0a66af5ec699f70c5a91f8f8d4bada17f780ccf4b9df
size 23488
