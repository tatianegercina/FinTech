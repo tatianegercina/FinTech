version https://git-lfs.github.com/spec/v1
oid sha256:4b192eb56c1b44c041490eecf81a913776b526a0a7e7bad4a1d19fae14cc2f99
size 11751
