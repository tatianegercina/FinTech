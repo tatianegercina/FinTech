version https://git-lfs.github.com/spec/v1
oid sha256:17abc0ba09b30c6f91924f75e1f8c736a0d91924e73734fd32fb6e11a7445044
size 11871
