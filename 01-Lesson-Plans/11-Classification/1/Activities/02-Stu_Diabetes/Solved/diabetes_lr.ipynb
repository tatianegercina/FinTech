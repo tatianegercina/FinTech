version https://git-lfs.github.com/spec/v1
oid sha256:21ddce5ea66dd7a4e98dc928dcc7cb1bd4ce4a38fa25f10ac3f8de1e7eac6684
size 20282
