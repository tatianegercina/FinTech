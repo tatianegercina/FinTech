version https://git-lfs.github.com/spec/v1
oid sha256:71f629bf379360f78ccf3c3d141ba68a9ec18f919d161d62d47cdd5205abdd04
size 11450
