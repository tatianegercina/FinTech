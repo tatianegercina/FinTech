version https://git-lfs.github.com/spec/v1
oid sha256:1e8dead02fc62701cf1e0caf816829215ecee66a8672ce731c5cd710ecda835a
size 4327
