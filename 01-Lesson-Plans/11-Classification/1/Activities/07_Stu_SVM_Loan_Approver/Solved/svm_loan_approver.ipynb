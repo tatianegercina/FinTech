version https://git-lfs.github.com/spec/v1
oid sha256:697d6902367c2890aa8c54de3bc6a0c3378c8fce834bf4c1adf32b5192a509bc
size 11829
