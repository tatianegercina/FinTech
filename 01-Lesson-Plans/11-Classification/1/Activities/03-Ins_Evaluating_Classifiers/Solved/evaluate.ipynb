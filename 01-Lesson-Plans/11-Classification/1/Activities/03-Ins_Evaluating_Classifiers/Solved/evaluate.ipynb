version https://git-lfs.github.com/spec/v1
oid sha256:6f9b264c55115759a5ea52cc6bb419344567b751d890169b89ffeef7f012a932
size 29375
