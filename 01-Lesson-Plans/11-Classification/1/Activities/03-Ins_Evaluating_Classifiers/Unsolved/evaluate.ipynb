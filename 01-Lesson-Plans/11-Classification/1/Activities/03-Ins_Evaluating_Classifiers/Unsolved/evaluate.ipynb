version https://git-lfs.github.com/spec/v1
oid sha256:bc5c4121ea1978227217a77685938a27f5b3ec7c2f1cadb74088c9de9ef78d77
size 3507
