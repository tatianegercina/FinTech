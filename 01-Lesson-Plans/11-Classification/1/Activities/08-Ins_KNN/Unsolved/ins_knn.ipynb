version https://git-lfs.github.com/spec/v1
oid sha256:b1f27eff6ada641a3b1a93033a5525f118b531567add7fd82035f0ec881da4b6
size 3230
