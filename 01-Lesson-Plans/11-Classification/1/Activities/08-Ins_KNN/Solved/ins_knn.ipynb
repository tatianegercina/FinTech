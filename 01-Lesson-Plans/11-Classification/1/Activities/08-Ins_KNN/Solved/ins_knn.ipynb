version https://git-lfs.github.com/spec/v1
oid sha256:7f2de3048caa8ce46cc15c3afe59cfd147c850607d5276e4f081add8cc87c5c3
size 91507
