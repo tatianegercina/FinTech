version https://git-lfs.github.com/spec/v1
oid sha256:ffcf71ae98e033fce4e0b45ab77de9cbf3672b26866053918f8ac5ca422ebb7b
size 3333
