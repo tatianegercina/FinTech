version https://git-lfs.github.com/spec/v1
oid sha256:482d995a11ca18cb2cc604a622c2ec0929286d1d10a72177fa5ff327c93f5e7a
size 699
