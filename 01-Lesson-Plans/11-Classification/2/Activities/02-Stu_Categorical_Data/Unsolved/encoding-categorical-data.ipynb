version https://git-lfs.github.com/spec/v1
oid sha256:777ae0704577573a3339e9ac680c13e4f25a763a55b613df1b6be76e4a2d30d6
size 5408
