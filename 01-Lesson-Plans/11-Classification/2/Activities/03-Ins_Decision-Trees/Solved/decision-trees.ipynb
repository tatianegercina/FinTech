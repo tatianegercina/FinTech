version https://git-lfs.github.com/spec/v1
oid sha256:4617895eef93e6fd13f92fd31321422541a15e5044cf0c2f5cd3db3a1ba192c2
size 3251362
