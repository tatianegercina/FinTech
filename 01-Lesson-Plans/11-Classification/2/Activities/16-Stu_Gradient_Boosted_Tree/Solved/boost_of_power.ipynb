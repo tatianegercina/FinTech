version https://git-lfs.github.com/spec/v1
oid sha256:b71618374dd8aca15501c5d7db8c1b5028d308e7dd0bd4729307ee9bd9a8a077
size 26547
