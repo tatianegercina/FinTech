version https://git-lfs.github.com/spec/v1
oid sha256:d3091907a61d1481bfc9a79e515a3556b2bd31b7fd3ac165e211031446ebaa88
size 2166911
