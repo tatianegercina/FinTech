version https://git-lfs.github.com/spec/v1
oid sha256:523d766613d75cb68ee31ad35aee4a27d8d9778006af0e9485a2443b349b840c
size 3195378
