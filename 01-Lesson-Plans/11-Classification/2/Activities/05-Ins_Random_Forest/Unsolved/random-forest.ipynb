version https://git-lfs.github.com/spec/v1
oid sha256:88ae4175153142765e8a636f41f736b469e68264a007a7925f15634ee1ed3cd0
size 5304
