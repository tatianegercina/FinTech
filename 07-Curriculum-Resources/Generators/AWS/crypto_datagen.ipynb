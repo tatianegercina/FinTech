version https://git-lfs.github.com/spec/v1
oid sha256:1d332acb6574cf7167ff7ff8a6a1649d7fd5e4a2dc4cd9ffd6baa9390d586c71
size 27358
