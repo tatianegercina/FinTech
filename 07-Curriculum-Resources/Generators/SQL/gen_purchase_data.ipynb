version https://git-lfs.github.com/spec/v1
oid sha256:efca7a60fbddc8f1eb3a2a278b46cc08e95e5bd3d3d277004e81ee71af0c3990
size 122027
