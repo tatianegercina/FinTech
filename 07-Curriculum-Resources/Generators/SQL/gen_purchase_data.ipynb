version https://git-lfs.github.com/spec/v1
oid sha256:fdaa373a15ee621d2257036e7464ac4112a14594948bd82cfad3e9fcd0d16571
size 197904
