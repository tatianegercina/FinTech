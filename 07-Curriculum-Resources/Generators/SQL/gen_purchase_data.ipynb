version https://git-lfs.github.com/spec/v1
oid sha256:3c1abfa99c92068819343a762ce64ecb3396df8eaba14d4a2960a5bfab3bb0a7
size 197895
