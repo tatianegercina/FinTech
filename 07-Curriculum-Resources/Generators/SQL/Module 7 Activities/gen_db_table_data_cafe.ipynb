version https://git-lfs.github.com/spec/v1
oid sha256:f42f0516b8cea568638259a350b9af87325b8a900008abacc021e9d1e667bb8e
size 83799
