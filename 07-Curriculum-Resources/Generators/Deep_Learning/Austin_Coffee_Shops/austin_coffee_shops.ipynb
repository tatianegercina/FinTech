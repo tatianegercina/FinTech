version https://git-lfs.github.com/spec/v1
oid sha256:635cf02a402b3ee5e3c8dd1ee0956d137edc84c8eaa61029e505bdbcce9c4926
size 33610
