version https://git-lfs.github.com/spec/v1
oid sha256:e124e245223653abf058328ee30d9ebc28b9d654c1b52cdf95c060d5d93c0109
size 309688
