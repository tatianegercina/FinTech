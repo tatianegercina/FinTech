version https://git-lfs.github.com/spec/v1
oid sha256:1726a87d5688e868d5b0981148a97357a3d1c7374e29fee7961ba2700e557b3a
size 309655
