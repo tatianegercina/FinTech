version https://git-lfs.github.com/spec/v1
oid sha256:9c2371472618a7fd11f5b55f7442665dedacebf751a1eecec7ddd7196e35f924
size 2941461
