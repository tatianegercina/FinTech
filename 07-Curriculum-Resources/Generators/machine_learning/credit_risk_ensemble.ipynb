version https://git-lfs.github.com/spec/v1
oid sha256:13215289f9b3571fc056cd5a52faa442708ce86383493b1ee955fbff01bdce76
size 19592
