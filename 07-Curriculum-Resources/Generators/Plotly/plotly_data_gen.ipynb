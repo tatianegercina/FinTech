version https://git-lfs.github.com/spec/v1
oid sha256:ae5cd262f59547e6f313c8a4cdfa707a9847fce884c4ea4825e9d9ce769d447f
size 512271
