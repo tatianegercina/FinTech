version https://git-lfs.github.com/spec/v1
oid sha256:984acbe11abf49e0ce7088ba6d0a35ba42e08d5cccb0566b9b0ee03f6c5d33ec
size 1472
