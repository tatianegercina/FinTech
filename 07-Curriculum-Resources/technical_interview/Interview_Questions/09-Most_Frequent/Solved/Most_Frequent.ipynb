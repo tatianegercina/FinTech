version https://git-lfs.github.com/spec/v1
oid sha256:6ad56c5027d0c9f7bb9c1fb7c5404b33a1c0afc5cadb3a89e7a0e95c5655598d
size 3024
