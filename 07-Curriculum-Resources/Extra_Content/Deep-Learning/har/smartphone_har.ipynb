version https://git-lfs.github.com/spec/v1
oid sha256:666ebac64208fee922dc2a53d0f6f666a1c2cbe784ff7ebcfbb7f803e18f31cd
size 2378185
