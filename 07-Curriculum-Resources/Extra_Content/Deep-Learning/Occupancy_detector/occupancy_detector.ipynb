version https://git-lfs.github.com/spec/v1
oid sha256:155f40d5298f8a9f543e916c7296142fc1bf05be1a68aaf8d9c8d8daee99e5ef
size 2374158
