version https://git-lfs.github.com/spec/v1
oid sha256:ec0e51930bdc7cd9278bb13286e392d24f1b81d97fcbc9a362cf97249b300ac6
size 271538
