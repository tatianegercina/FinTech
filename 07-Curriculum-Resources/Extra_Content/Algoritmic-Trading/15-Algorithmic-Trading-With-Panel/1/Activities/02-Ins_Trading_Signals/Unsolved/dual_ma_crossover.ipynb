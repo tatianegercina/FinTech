version https://git-lfs.github.com/spec/v1
oid sha256:493cb0aea9d3ccd21d5b6f2535190239b9a5cb2489a4f44aecb37af9f42e703e
size 2656004
