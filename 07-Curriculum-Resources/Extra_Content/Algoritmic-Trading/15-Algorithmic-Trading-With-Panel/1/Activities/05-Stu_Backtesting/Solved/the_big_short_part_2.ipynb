version https://git-lfs.github.com/spec/v1
oid sha256:0c5dbeda53cc159a57f48ef96af4ab05b5b35252a753a63678f6fce8d2130a7b
size 2660071
