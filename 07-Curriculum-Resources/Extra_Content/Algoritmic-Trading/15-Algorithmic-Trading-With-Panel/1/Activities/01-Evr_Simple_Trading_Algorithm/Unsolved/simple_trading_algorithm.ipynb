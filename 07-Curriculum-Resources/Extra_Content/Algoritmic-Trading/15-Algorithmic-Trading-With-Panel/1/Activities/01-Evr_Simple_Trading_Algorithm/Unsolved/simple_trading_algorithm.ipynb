version https://git-lfs.github.com/spec/v1
oid sha256:3a3d0c0b0b9e2ac363db013187a957bacf02e10d4f87f098c8f6eb7ee22b4e49
size 34403
