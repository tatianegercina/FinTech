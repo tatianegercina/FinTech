version https://git-lfs.github.com/spec/v1
oid sha256:ea84c2982b89c8d3eb91256a77bf7032f0b4bdadd472fa09bcaa9198b6d316b0
size 2538268
