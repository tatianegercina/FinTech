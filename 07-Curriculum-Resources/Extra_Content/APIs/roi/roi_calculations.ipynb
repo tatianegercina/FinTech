version https://git-lfs.github.com/spec/v1
oid sha256:42efc2e36e790d1cd5289fd81d3c69f98a4bcf8bfbbaa3a82c81e2a5a0f0e294
size 25201505
