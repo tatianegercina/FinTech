version https://git-lfs.github.com/spec/v1
oid sha256:d25aa9d3a055dbe46cb9acca3e8827ab0fb8be3fce21389e93072f762dc85b2a
size 7053033
