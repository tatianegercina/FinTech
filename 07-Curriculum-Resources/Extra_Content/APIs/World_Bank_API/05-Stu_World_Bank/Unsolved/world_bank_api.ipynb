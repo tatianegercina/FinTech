version https://git-lfs.github.com/spec/v1
oid sha256:2b00e8f6b8f1b3fece0e4c18ce0c8c3484d0c05b101c2e4fd23b5bdecd5d9036
size 1830
