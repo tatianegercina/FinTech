version https://git-lfs.github.com/spec/v1
oid sha256:3a80163598b3dbaa9c238f8a49b107dba7f06794e7066ee317ef75a5a76618dc
size 158556
