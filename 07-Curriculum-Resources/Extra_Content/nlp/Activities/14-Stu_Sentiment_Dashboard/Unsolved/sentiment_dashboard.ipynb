version https://git-lfs.github.com/spec/v1
oid sha256:d6b27636ba17b4b4faf2dda453186b34a26711a8ba3074f87a12089637de8c06
size 6144
